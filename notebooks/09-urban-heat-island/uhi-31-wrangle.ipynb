{
  "cells": [
    {
      "cell_type": "markdown",
      "metadata": {},
      "source": [
        "## STEP 1: Import packages\n",
        "\n",
        "### Python **packages** let you use code written by experts around the world\n",
        "\n",
        "Because Python is open source, lots of different people and organizations can contribute (including you!). Many contributions are in the form of **packages** which do not come with a standard Python download.\n",
        "\n",
        "::: {.callout-read title=\"Packages need to be installed and imported.\"}\n",
        "Learn more about using Python packages. How do you find and use packages? What is the difference between installing and importing packages? When do you need to do each one? [This article on Python packages](https://www.earthdatascience.org/courses/intro-to-earth-data-science/python-code-fundamentals/use-python-packages/) will walk you through the basics.\n",
        ":::\n",
        "\n",
        "In the cell below, someone was trying to import the **pandas package**, which helps us to work with [**tabular data** such as comma-separated value or csv files](https://www.earthdatascience.org/courses/intro-to-earth-data-science/file-formats/use-text-files/).\n",
        "\n",
        "::: {.callout-task title=\"Import a package\"}\n",
        "\n",
        "  1. Correct the typo below to properly import the pandas package under its **alias** pd.\n",
        "  2. Run the cell to import pandas\n",
        "\n",
        ":::\n",
        "\n",
        "::: {.content-visible when-format=\"ipynb\"}\n",
        ":::: {.callout-warning}\n",
        "Make sure to run your code in the right **environment** to avoid import errors!\n",
        "\n",
        "We've created a coding **environment** for you to use that already has all the software and packages you will need! When you try to run some code, you may be prompted to select a **kernel**. The **kernel** refers to the version of Python you are using. You should use the **base** kernel, which should be the default option for you.\n",
        "::::\n",
        ":::\n"
      ],
      "id": "8a4ff309"
    },
    {
      "cell_type": "code",
      "metadata": {
        "class": "student-code",
        "highlight": true
      },
      "source": [
        "#| echo: true\n",
        "#| eval: false\n",
        "# Import libraries\n",
        "import pandsa as pd"
      ],
      "id": "77768441",
      "execution_count": null,
      "outputs": []
    },
    {
      "cell_type": "markdown",
      "metadata": {},
      "source": [
        "::: {.content-visible when-format=\"html\"}\n"
      ],
      "id": "d550bc81"
    },
    {
      "cell_type": "code",
      "metadata": {
        "class": "answer-code",
        "highlight": true
      },
      "source": [
        "#| echo: true\n",
        "#| eval: true\n",
        "#| code-fold: true\n",
        "#| code-summary: See our solution!\n",
        "# Use tabular data\n",
        "import pandas as pd"
      ],
      "id": "d1b30de8",
      "execution_count": null,
      "outputs": []
    },
    {
      "cell_type": "markdown",
      "metadata": {},
      "source": [
        ":::\n",
        "\n",
        "## STEP 2: Download Data\n",
        "\n",
        "### Global Historical Climatology Network\n",
        "\n",
        "One way scientists know that the climate is changing is by looking at records from temperature sensors around the globe. Some of these sensors have been recording data for over a century! For this activity, we'll get daily maximum temperature measurements from the [Global Historical Climate Network daily](https://www.ncei.noaa.gov/products/land-based-station/global-historical-climatology-network-daily) [@menne_overview_2012], an openly available and extensively validated global network of temperature sensors.\n",
        "\n",
        "![The Global Historical Climatology Network Source: CC BY-SA 3.0, https://commons.wikimedia.org/w/index.php?curid=2084097](https://upload.wikimedia.org/wikipedia/commons/a/ab/GHCN_Temperature_Stations.png)\n",
        "\n",
        "The GHCNd data are available through by the National Oceanic and Atmospheric Administration's (NOAA) National Centers for Environmental Information (NCEI) Climate Data Online [search tool](https://www.ncdc.noaa.gov/cdo-web/search). We can get also get these data using code by contacting NCEI's API.\n",
        "\n",
        "::: {.callout-tip .column-margin title=\"What's an API?\"}\n",
        "An API, or Application Programming Interface, is how computers talk to each other.\n",
        ":::\n",
        "\n",
        "::: {.callout-read}\n",
        "Read more about [NCEI's API](https://www.ncei.noaa.gov/support/access-data-service-api-user-documentation) and the [Climate Data Online](https://www.ncei.noaa.gov/cdo-web/) database.\n",
        ":::\n",
        "\n",
        "For this activity we have created URLs that contacts the NCEI API  for two climate stations in the greater Chicago area. We will walk through each line of the url to explain what it is doing.\n",
        "\n",
        "### O'Hare International Airport\n",
        "Chicago O'Hare International Airport (ORD) is one of the busiest airports in the world, serving as a major hub for both domestic and international flights. Located about 14 miles northwest of downtown Chicago, it offers flights to more than 200 destinations and handles over 83 million passengers annually. It is home to Chicago's official meteorological station. It creates an urban heat island due to the amount of concrete and asphalt needed to support the infrastructure.\n",
        "\n",
        "**Station ID: USW00094846**\n",
        "\n",
        "::: {.callout-task title='Build your API URL'}\n",
        "\n",
        "1. Add the station ID for the O'Hare station (USW00094846) into the URL below\n",
        "2. Run the code to store the URL in Python\n",
        "\n",
        ":::\n",
        "\n",
        "::: {.callout-important .column-margin title='What if the API is down?'}\n",
        "Getting data from APIs relies on internet services you don't have control over. If you are getting a response something like `503: Service Unavailable`, it may be that the API is down temperarily! If that happens during the workshop, we'll have you use some data we've already downloaded and placed in the folder with this code -- with any luck we won't need it.\n",
        ":::\n"
      ],
      "id": "99984725"
    },
    {
      "cell_type": "code",
      "metadata": {
        "class": "student-code",
        "highlight": true
      },
      "source": [
        "#| echo: true\n",
        "#| eval: false\n",
        "# Create a URL API call for the O'Hare climate station\n",
        "ohare_url = (\n",
        "    'https://www.ncei.noaa.gov/access/services/data/v1?'\n",
        "    'dataset=daily-summaries'\n",
        "    '&dataTypes=TMAX'\n",
        "    '&stations='\n",
        "    '&startDate=2024-06-01'\n",
        "    '&endDate=2024-06-30'\n",
        "    '&units=standard')\n",
        "\n",
        "# Check the URL\n",
        "ohare_url"
      ],
      "id": "636f544f",
      "execution_count": null,
      "outputs": []
    },
    {
      "cell_type": "markdown",
      "metadata": {},
      "source": [
        "::: {.content-visible when-format=\"html\"}\n"
      ],
      "id": "181b3779"
    },
    {
      "cell_type": "code",
      "metadata": {
        "class": "answer-code",
        "highlight": true
      },
      "source": [
        "#| echo: true\n",
        "#| eval: true\n",
        "#| code-fold: true\n",
        "#| code-summary: See our solution!\n",
        "# Create a URL API call for the O'Hare climate station\n",
        "ohare_url = (\n",
        "    'https://www.ncei.noaa.gov/access/services/data/v1?'\n",
        "    'dataset=daily-summaries'\n",
        "    '&dataTypes=TMAX'\n",
        "    '&stations=USW00094846'\n",
        "    '&startDate=2024-06-01'\n",
        "    '&endDate=2024-06-30'\n",
        "    '&units=standard')\n",
        "\n",
        "# Check the URL\n",
        "ohare_url"
      ],
      "id": "260ccf30",
      "execution_count": null,
      "outputs": []
    },
    {
      "cell_type": "markdown",
      "metadata": {},
      "source": [
        ":::\n",
        "\n",
        "::: {.callout-task title=\"Load maximum temperature data for O'Hare\"}\n",
        "\n",
        "1. Replace `url_or_path` with the variable name you used above to store the O'Hare station API URL (or O'Hare data path if the API is down). Run the code to make sure you've got it right! \n",
        "2. Uncomment lines 4 and 5. Then, replace `date_column_name` with the actual column name that has the date.\n",
        "3. Run the code, again. Check that the date column is the **index** and that it is parsed into a `DateTimeIndex` using the `.describe()` method.\n",
        ":::\n"
      ],
      "id": "87270fc5"
    },
    {
      "cell_type": "code",
      "metadata": {
        "class": "student-code",
        "highlight": true
      },
      "source": [
        "#| echo: true\n",
        "#| eval: false\n",
        "# Open data using pandas\n",
        "ohare_df = pd.read_csv(\n",
        "    url_or_path,\n",
        "    #parse_dates=True,\n",
        "    #index_col='date_column_name'\n",
        ")\n",
        "\n",
        "# Plot the data using pandas\n",
        "ohare_df.TMAX.plot()\n",
        "\n",
        "# Check the first 5 lines of data\n",
        "ohare_df.head()"
      ],
      "id": "f379331c",
      "execution_count": null,
      "outputs": []
    },
    {
      "cell_type": "markdown",
      "metadata": {},
      "source": [
        "::: {.content-visible when-format=\"html\"}\n"
      ],
      "id": "b6a65f5a"
    },
    {
      "cell_type": "code",
      "metadata": {
        "class": "answer-code",
        "highlight": true
      },
      "source": [
        "#| echo: true\n",
        "#| eval: true\n",
        "#| code-fold: true\n",
        "#| code-summary: See our solution!\n",
        "# Open data using pandas\n",
        "ohare_df = pd.read_csv(\n",
        "    ohare_url,\n",
        "    # Comment above and uncomment below if NCEI isn't working\n",
        "    # ohare_path,\n",
        "    parse_dates=True,\n",
        "    index_col='DATE',\n",
        "    na_values=['NaN'])\n",
        "\n",
        "# Plot the data using pandas\n",
        "ohare_df.TMAX.plot()\n",
        "\n",
        "# Check the data types\n",
        "ohare_df.describe()"
      ],
      "id": "a3b27269",
      "execution_count": null,
      "outputs": []
    },
    {
      "cell_type": "markdown",
      "metadata": {},
      "source": [
        ":::\n",
        "\n",
        "### Northerly Island\n",
        "\n",
        "Northerly Island is a 91-acre man-made peninsula located along the Lake Michigan shoreline in Chicago. Originally part of Daniel Burnham’s 1909 Plan of Chicago, it was transformed into a nature-focused park featuring walking trails, natural habitats, and scenic lakefront views. The site also hosts the Huntington Bank Pavilion, a popular outdoor concert venue.\n",
        "\n",
        "\n",
        "\n",
        "::: {.callout-task title=\"Load data, part 2\"}\n",
        "\n",
        "1. Repeat the above data loading process using the Northerly Island site (**Station ID: USC00111550**)\n",
        "\n",
        ":::: {.callout-important title=\"Make sure to give your new variables different names!\"}\n",
        "e.g. `northerly_url` instead of `ohare_url`. Otherwise, you will write over the data you just downloaded!\n",
        "::::\n",
        "\n",
        ":::\n"
      ],
      "id": "6cbcf830"
    },
    {
      "cell_type": "code",
      "metadata": {
        "class": "student-code",
        "highlight": true
      },
      "source": [
        "#| echo: true\n",
        "#| eval: false\n",
        "# Create an API call for the Northerly climate station"
      ],
      "id": "3838d82d",
      "execution_count": null,
      "outputs": []
    },
    {
      "cell_type": "markdown",
      "metadata": {},
      "source": [
        "::: {.content-visible when-format=\"html\"}\n"
      ],
      "id": "20000ddb"
    },
    {
      "cell_type": "code",
      "metadata": {
        "class": "answer-code",
        "highlight": true
      },
      "source": [
        "#| echo: true\n",
        "#| eval: true\n",
        "#| code-fold: true\n",
        "#| code-summary: See our solution!\n",
        "# Create an API call for the Northerly climate station\n",
        "northerly_url = (\n",
        "    'https://www.ncei.noaa.gov/access/services/data/v1?'\n",
        "    'dataset=daily-summaries'\n",
        "    '&dataTypes=TMAX'\n",
        "    '&stations=USC00111550'\n",
        "    '&startDate=2024-06-01'\n",
        "    '&endDate=2024-06-30'\n",
        "    '&units=standard')\n",
        "\n",
        "# Check the url\n",
        "northerly_url"
      ],
      "id": "eb09dd9c",
      "execution_count": null,
      "outputs": []
    },
    {
      "cell_type": "markdown",
      "metadata": {},
      "source": [
        ":::\n"
      ],
      "id": "c7f82bb0"
    },
    {
      "cell_type": "code",
      "metadata": {
        "class": "student-code",
        "highlight": true
      },
      "source": [
        "#| echo: true\n",
        "#| eval: false\n",
        "# Open data\n",
        "\n",
        "# Plot the data\n",
        "\n",
        "# Check the first 5 lines of data"
      ],
      "id": "6e0ec7ff",
      "execution_count": null,
      "outputs": []
    },
    {
      "cell_type": "markdown",
      "metadata": {},
      "source": [
        "::: {.content-visible when-format=\"html\"}\n"
      ],
      "id": "09deed10"
    },
    {
      "cell_type": "code",
      "metadata": {
        "class": "answer-code",
        "highlight": true
      },
      "source": [
        "#| echo: true\n",
        "#| eval: true\n",
        "#| code-fold: true\n",
        "#| code-summary: See our solution!\n",
        "# Open data\n",
        "northerly_df = pd.read_csv(\n",
        "    northerly_url,\n",
        "    # Comment above and uncomment below in the event that NCEI isn't working\n",
        "    # northerly_path,\n",
        "    parse_dates=True,\n",
        "    index_col='DATE',\n",
        "    na_values=['NaN'])\n",
        "\n",
        "# Plot the data\n",
        "northerly_df.TMAX.plot()\n",
        "\n",
        "# Check the first 5 lines of data\n",
        "northerly_df.head()"
      ],
      "id": "1b294887",
      "execution_count": null,
      "outputs": []
    },
    {
      "cell_type": "markdown",
      "metadata": {},
      "source": [
        ":::\n",
        "\n",
        "## STEP 3: Wrangle Data\n",
        "\n",
        "### Select only the columns you want\n",
        "\n",
        "Notice that your data came with a `STATION` column as well as the maximum temperature  `TMAX` column. The extra column can make your data a bit unweildy.\n",
        "\n",
        "::: {.callout-task}\n",
        "To select only the `TMAX` column:\n",
        "\n",
        "  1. Replace `df` with the name of your `DataFrame`\n",
        "  2. Replace `column_name` with the name of the column you want to select\n",
        "  3. Replace `tmax_df` in all locations with a descriptive name for the new single-column `DataFrame`\n",
        "\n",
        ":::: {.callout-tip title=\"What's with those double square brackets? (`[[]]`)\"}\n",
        "If you use single brackets, you will find that you get back something called a `Series` rather than a `DataFrame`, which will make things difficult down the road. A `Series` is a single column of a `DataFrame`. It still has an index (in this case our dates), but can't do all the things a `DataFrame` can do. It also displays as plain text instead of a formatted table, so you can easily tell the difference.\n",
        "::::\n",
        ":::\n"
      ],
      "id": "be3b6577"
    },
    {
      "cell_type": "code",
      "metadata": {
        "class": "student-code",
        "highlight": true
      },
      "source": [
        "#| echo: true\n",
        "#| eval: false\n",
        "# Select only the TMAX column of the O'Hare data\n",
        "tmax_df = df[['column_name']]\n",
        "tmax_df.describe()"
      ],
      "id": "e0950d86",
      "execution_count": null,
      "outputs": []
    },
    {
      "cell_type": "code",
      "metadata": {
        "class": "student-code",
        "highlight": true
      },
      "source": [
        "#| echo: true\n",
        "#| eval: false\n",
        "# Select only the TMAX column of the Northerly data\n",
        "tmax_df = df[['column_name']]\n",
        "tmax_df.describe()"
      ],
      "id": "de8439eb",
      "execution_count": null,
      "outputs": []
    },
    {
      "cell_type": "markdown",
      "metadata": {},
      "source": [
        "::: {.content-visible when-format=\"html\"}\n"
      ],
      "id": "3392b121"
    },
    {
      "cell_type": "code",
      "metadata": {
        "class": "answer-code",
        "highlight": true
      },
      "source": [
        "#| echo: true\n",
        "#| eval: true\n",
        "#| code-fold: true\n",
        "#| code-summary: See our solution!\n",
        "ohare_tmax_df = ohare_df[['TMAX']]\n",
        "northerly_tmax_df = northerly_df[['TMAX']]\n",
        "ohare_tmax_df.describe(), northerly_tmax_df.describe()"
      ],
      "id": "34a568db",
      "execution_count": null,
      "outputs": []
    },
    {
      "cell_type": "markdown",
      "metadata": {},
      "source": [
        ":::\n",
        "\n",
        "### Join data\n",
        "\n",
        "Right now, we have data from two stations in two separate `DataFrames`. We could work with that, but to make things go smoother (and learn how to work with `DataFrames`) we can **join** them together.\n",
        "\n",
        "::: {.callout-tip title=\"What's a **join**?\"}\n",
        "There are a few different ways to combine `DataFrame`s in Python. A **join** combines two `DataFrame`s by their **index** (the dates in our case), checking to make sure that every date matches. In our case, we could **concatenate** instead without checking the dates, because all the dates are the same for our two `DataFrame`s. That would probably be faster! But also, we think it is more error-prone. For example, it might not tell you that something was wrong if you accidentally downloaded data from two different years.\n",
        ":::\n",
        "\n",
        "::: {.callout-task title=\"Join two `DataFrame`s\"}\n",
        "\n",
        "Starting with the sample code below:\n",
        "\n",
        "  1. Replace `left_df` with the name of the first `DataFrame`. In this case, it doesn't matter which one you choose to be on the left, but you need to make sure that it matches the **left suffix** label (`lsuffix`).\n",
        "  2. Replace `right_df` with the name of the second `DataFrame`, making sure it matches `rsuffix`.\n",
        "  3. Run the code and check that your join happened correctly.\n",
        ":::\n"
      ],
      "id": "b716208c"
    },
    {
      "cell_type": "code",
      "metadata": {
        "class": "student-code",
        "highlight": true
      },
      "source": [
        "#| echo: true\n",
        "#| eval: false\n",
        "# Join the data\n",
        "tmax_df = (\n",
        "    left_df\n",
        "    .join(\n",
        "        right_df, \n",
        "        lsuffix='_ohare', \n",
        "        rsuffix='_northerly')\n",
        ")\n",
        "tmax_df.head()"
      ],
      "id": "d539a159",
      "execution_count": null,
      "outputs": []
    },
    {
      "cell_type": "markdown",
      "metadata": {},
      "source": [
        "::: {.content-visible when-format=\"html\"}\n"
      ],
      "id": "c6d11c7a"
    },
    {
      "cell_type": "code",
      "metadata": {
        "class": "answer-code",
        "highlight": true
      },
      "source": [
        "#| echo: true\n",
        "#| eval: true\n",
        "#| code-fold: true\n",
        "#| code-summary: See our solution!\n",
        "# Join the data\n",
        "tmax_df = (\n",
        "    ohare_tmax_df\n",
        "    .join(\n",
        "        northerly_tmax_df, \n",
        "        lsuffix='_ohare', \n",
        "        rsuffix='_northerly')\n",
        ")\n",
        "tmax_df.head()"
      ],
      "id": "659b4afb",
      "execution_count": null,
      "outputs": []
    },
    {
      "cell_type": "markdown",
      "metadata": {},
      "source": [
        ":::\n",
        "\n",
        "::: {.content-visible when-format=\"ipynb\"}\n"
      ],
      "id": "df8f694a"
    },
    {
      "cell_type": "code",
      "metadata": {},
      "source": [
        "%store tmax_df"
      ],
      "id": "d52336b0",
      "execution_count": null,
      "outputs": []
    },
    {
      "cell_type": "markdown",
      "metadata": {},
      "source": [
        ":::"
      ],
      "id": "35cc12c2"
    }
  ],
  "metadata": {
    "kernelspec": {
      "name": "python3",
      "language": "python",
      "display_name": "Python 3 (ipykernel)"
    }
  },
  "nbformat": 4,
  "nbformat_minor": 5
}