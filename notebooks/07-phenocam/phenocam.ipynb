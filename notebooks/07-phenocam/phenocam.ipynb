{
  "cells": [
    {
      "cell_type": "raw",
      "metadata": {},
      "source": [
        "---\n",
        "title: MEFA PhenoCam Activity\n",
        "editor: visual\n",
        "warning: false\n",
        "execute:\n",
        "  echo: true\n",
        "  eval: true\n",
        "format:\n",
        "  html: default\n",
        "  markdown:\n",
        "    output-file: MEFA Phenocam Activity\n",
        "---"
      ],
      "id": "a753aa8c"
    },
    {
      "cell_type": "markdown",
      "metadata": {},
      "source": [
        "# Explore PhenoCam Data\n",
        "\n",
        "Created by Alison Post (July 2024)\n",
        "\n",
        "Some code adapted from the [2020 NEON Tutorial](https://www.neonscience.org/resources/learning-hub/tutorials/phenocam-api-intro) by Bijan Seyednasrollah\n",
        "\n",
        "## Introduction to PhenoCam\n",
        "\n",
        "Established in 2008, the [PhenoCam Network](https://phenocam.nau.edu/webcam/) is a collection of \\>700 digital cameras that take regular (\\~ every 30 min) pictures of ecosystem canopies around the world. The name PhenoCam comes from the combination of the words \"phenology\" and \"camera\", because the images are an easy and effective way to study the phenology, or the timing of seasonal changes, of vegetation across diverse ecosystems. The images are available in near-real time to view on the [PhenoCam website](https://phenocam.nau.edu/webcam/), and can also be downloaded through the [`phenocamapi` R package](https://github.com/PhenoCamNetwork/phenocamapi), which we'll cover in this tutorial. There are currently over 60 million images available!\n",
        "\n",
        "![PhenoCam locations across North America (screenshot from phenocam.nau.edu).](/img/notebooks/phenocam/PhenoCam_SiteMap.png){fig-align=\"center\" width=\"600\"}\n",
        "\n",
        "![Illustration of a PhenoCam (red circle) over a tree canopy collecting phenology data (Image from [Richardson 2019](https://nph.onlinelibrary.wiley.com/doi/full/10.1111/nph.15591), illustrator: Victor Leshyk).](/img/notebooks/phenocam/PhenoCam_illustration_2.png){fig-align=\"center\" width=\"350\"}\n",
        "\n",
        "#### Quantifying Greenness\n",
        "\n",
        "Beyond being pretty pictures, PhenoCam images also provide a quantitative way to track vegetation phenology by measuring the intensity of canopy greenness. Digital images are stored as three different color channels - red, green, and blue (RGB) - which are the primary colors of light, and combine in different ratios to create all the visible colors in a photograph. Old-style TVs use this same method, as does your smartphone.\n",
        "\n",
        "![The primary colors of light combine to create all visible colors in digital images.](/img/notebooks/phenocam/RGB_colors.png){fig-align=\"center\" width=\"250\"}\n",
        "\n",
        "Each digital pixel has a numerical value for each color channel (RGB) that represents its intensity. We can use these values to quantify the relative intensity of green compared to the overall brightness of the image. We call this the Green Chromatic Coordinate (GCC) and calculate it using the equation below.\n",
        "\n",
        "![Equation to calculate the relative greenness (GCC) of a digital image.](/img/notebooks/phenocam/GCC_equation.png){fig-align=\"center\" width=\"250\"}\n",
        "\n",
        "However, since PhenoCam images usually capture other things besides just the vegetation canopy (e.g., sky, ground, roads, buildings), each site has established portions of the image, or regions of interest (ROIs), that are analyzed for greenness. For example, at this forested site in Canada (lacclair), only the trees in the foreground are included in the GCC calculation:\n",
        "\n",
        "![Example of an ROI (unshaded portion) for a forest site.](/img/notebooks/phenocam/lacclair_ROI.png){fig-align=\"center\" width=\"350\"}\n",
        "\n",
        "And at this shrub site, only the shrub plants are included in the ROI and bare ground is excluded.\n",
        "\n",
        "![ROI (unshaded portion) for a shrub site- bare ground is excluded.](/img/notebooks/phenocam/shrub_ROI.png){fig-align=\"center\" width=\"350\"}\n",
        "\n",
        "When GCC is calculated over a long time period at a site, a timeseries of vegetation greenness can be created. Below is the GCC timeseries for the \"laccair\" forest site shown above over the past 9 years. Notice the clear seasonal cycle of vegetation green-up in the spring followed by leaf color change and senescence (brown-down/death) in autumn.\n",
        "\n",
        "![Timeseries of canopy greeness (GCC) at a forest site in Canada (lacclair).](/img/notebooks/phenocam/lacclair_GCC.png){fig-align=\"center\" width=\"1800\"}\n",
        "\n",
        "#### Seasonal Transition Dates\n",
        "\n",
        "These GCC timeseries can be used to extract seasonal transition dates across the years. For example, to determine the timing of spring green-up, we can use the amplitude (height) of each annual peak to determine when (what day of the year) vegetation at the site has reached either 10%, 25%, or 50% of its maximum greenness. We consider this to be the start of spring green-up. We use a similar method to extract the start of autumn brown-down.\n",
        "\n",
        "![The dates of spring green-up (green symbols) and autumn brown-down (brown symbols) can be extracted from the GCC timeseries.](/img/notebooks/phenocam/transition%20dates.png){fig-align=\"center\" width=\"400\"}\n",
        "\n",
        "Over a long time period, the timing of seasonal transition dates can be used to track shifts in vegetation phenology, such as with climate change. This dataset can also be used to determine which environmental and biologic factors (e.g., temperature, rainfall, sunlight) influence the timing of spring leaf-out and autumn color changes.\n",
        "\n",
        "![Seasonal transition dates at a deciduous forest site in Canada (lacclair) over the past 9 years.](/img/notebooks/phenocam/transition%20dates_timeseries.png){fig-align=\"center\"}\n",
        "\n",
        "#### Your turn!\n",
        "\n",
        "Thanks for learning about PhenoCam. Now you'll have the chance to access images and data from a PhenoCam site of your choosing following the tutorial below!\n",
        "\n",
        "## Accessing PhenoCam Data\n",
        "\n",
        "We'll be using the \"[phenocamapi\" R package](https://github.com/PhenoCamNetwork/phenocamapi) to directly download PhenoCam data. An API is an *application programming interface* (API), which is a way for two or more applications/computers to talk with one another. In this case, it allows us to directly access data from the PhenoCam database.\n",
        "\n",
        "Then, you'll choose a site to view some images and download greenness data. Finally, you'll create a gif (short movie) of your site through time.\n",
        "\n",
        "First, we need to open the required packages. A package is a collection of functions/tools to complete a desired task. For example, you need a certain set of tools to build a birdhouse, but a different set of tools to bake a cake. In this case, the \"phenocamapi\" and \"phenocamr\" packages have the tools to interact with and download phenocam data. The other packages listed below assist with visualization and formatting.\n"
      ],
      "id": "acc393fd"
    },
    {
      "cell_type": "code",
      "metadata": {},
      "source": [
        "#| echo: false\n",
        "#| output: false\n",
        "install.packages(\n",
        "    'phenocamr', lib=.libPaths()[1],\n",
        "    repos = \"http://cran.us.r-project.org\")\n",
        "remotes::install_github('PhenoCamNetwork/phenocamapi')"
      ],
      "id": "71c43e33",
      "execution_count": null,
      "outputs": []
    },
    {
      "cell_type": "code",
      "metadata": {},
      "source": [
        "library(phenocamapi)\n",
        "library(phenocamr)\n",
        "library(jpeg)\n",
        "library(purrr) \n",
        "library(magick)\n",
        "library(lubridate)\n",
        "library(ggplot2)\n",
        "library(pals)\n",
        "library(maps)\n",
        "library(plotly)"
      ],
      "id": "231f54e8",
      "execution_count": null,
      "outputs": []
    },
    {
      "cell_type": "markdown",
      "metadata": {},
      "source": [
        "Next, indicate a location (file path) where you want the PhenoCam images to save. For this workshop, we'll create a new file within GitHub Codespaces called \"pheno_images\".\n",
        "\n",
        "::: {.callout-tip}\n",
        "In the future, if you're using R Studio locally on your computer, you can enter a local directory for your computer instead (e.g., \"C:/Users/alison/Desktop/pheno_images\"). Make sure to use forward slashes (if using Windows, you'll have to switch from the default backslashes to forward slashes).\n",
        ":::\n"
      ],
      "id": "08d12923"
    },
    {
      "cell_type": "code",
      "metadata": {},
      "source": [
        "# Designate directory (file path)\n",
        "dir = file.path('.', 'pheno_images')\n",
        "\n",
        "# Create test_images folder\n",
        "dir.create(dir)\n",
        "\n",
        "# View directory\n",
        "dir"
      ],
      "id": "61dac782",
      "execution_count": null,
      "outputs": []
    },
    {
      "cell_type": "markdown",
      "metadata": {},
      "source": [
        "First, we'll download a table to see all the available PhenoCam sites and associated metadata. For example, each entry lists a site's geographic coordinates, date of first and last image, primary vegetation type (see table below for abbreviations), and mean annual temperature and precipitation, among other things.\n",
        "\n",
        "Vegetation types:\n",
        "\n",
        "| Abbreviation | Vegetation Type      |\n",
        "|--------------|----------------------|\n",
        "| AG           | Agriculture          |\n",
        "| DB           | Deciduous Broadleaf  |\n",
        "| EB           | Evergreen Broadleaf  |\n",
        "| EN           | Evergreen Needleleaf |\n",
        "| DN           | Deciduous Needleleaf |\n",
        "| GR           | Grassland            |\n",
        "| MX           | Mixed Forest         |\n",
        "| NV           | Non-vegetated        |\n",
        "| SH           | Shrub                |\n",
        "| TN           | Tundra               |\n",
        "| UN           | Understory           |\n",
        "| WL           | Wetland              |\n"
      ],
      "id": "300cdf97"
    },
    {
      "cell_type": "code",
      "metadata": {},
      "source": [
        "# List metadata of all sites\n",
        "sitelist_table <- get_phenos() \n",
        "\n",
        "# View table and available metadata (column names)\n",
        "View(sitelist_table)\n",
        "colnames(sitelist_table)"
      ],
      "id": "a9d165cf",
      "execution_count": null,
      "outputs": []
    },
    {
      "cell_type": "markdown",
      "metadata": {},
      "source": [
        "You can filter the table by any of the available attributes (column names). For example, I created a subset of only grasslands (GR) sites below.\n"
      ],
      "id": "1d2e66da"
    },
    {
      "cell_type": "code",
      "metadata": {},
      "source": [
        "# Create a subset of only grassland sites \n",
        "GR_sites <- subset(sitelist_table, primary_veg_type == \"GR\")  \n",
        "\n",
        "# View the first few grassland entries and entire table\n",
        "View(GR_sites)"
      ],
      "id": "e50a2ec5",
      "execution_count": null,
      "outputs": []
    },
    {
      "cell_type": "markdown",
      "metadata": {},
      "source": [
        "**Challenge**: Can you subset the sitelist_table by a different primary vegetation type? How about by a different variable (table column)? Use the code cell below.\n"
      ],
      "id": "997b4c88"
    },
    {
      "cell_type": "markdown",
      "metadata": {},
      "source": [
        "#### Create a Map of the PhenoCam Sites\n",
        "\n",
        "Now, we'll create an interactive map to view all the PhenoCam sites colored by their primary vegetation type. First, using our \"sitelist_table\" that we downloaded above, we filter out any sites for which a primary vegetation type isn't listed or an \"NA\" is entered. We'll call this new data table \"sitelist_table2\".\n"
      ],
      "id": "4d6805cb"
    },
    {
      "cell_type": "code",
      "metadata": {},
      "source": [
        "# Remove sites with NA and empty cells for primary_veg_type\n",
        "sitelist_table2 <- sitelist_table[!(is.na(sitelist_table$primary_veg_typ) | sitelist_table$primary_veg_typ==\"\"), ]"
      ],
      "id": "e0e514ed",
      "execution_count": null,
      "outputs": []
    },
    {
      "cell_type": "markdown",
      "metadata": {},
      "source": [
        "Then, we'll create a static map of the PhenoCam sites using their latitude and longitude (included in \"sitelist_table2\"). We'll overlay this onto a basemap of the world and US states.\n"
      ],
      "id": "b2b9dbe7"
    },
    {
      "cell_type": "code",
      "metadata": {},
      "source": [
        "# Download basemaps of the world and US states\n",
        "world_map <- map_data(\"world\")\n",
        "state_map <- map_data(\"state\")\n",
        "\n",
        "## Create map of sites\n",
        "Site_map <- ggplot() +\n",
        "    # Add world map  \n",
        "    geom_polygon(data = world_map, aes(x = long, y = lat, group = group), \n",
        "                fill = \"white\", color = \"black\") +\n",
        "    # Add state map\n",
        "    geom_polygon(data = state_map, aes(x = long, y = lat, group = group), \n",
        "                fill = NA, color = \"black\") +  \n",
        "    # Add PhenoCam sites as points\n",
        "    geom_point(data = sitelist_table2, aes(x = lon, y = lat,\n",
        "                color = primary_veg_type,\n",
        "                text = paste(\"Site:\", site)), size = 3) +\n",
        "    # Choose legend colors  \n",
        "    scale_color_manual(values=as.vector(trubetskoy(11))) + \n",
        "    # Add title and labels  \n",
        "    labs(title = \"PhenoCam Sites by Vegetation Type\", x = \"Longitude\", \n",
        "        y = \"Latitude\", color = \"Primary Veg Type\") +\n",
        "    # Indicate map theme (general appearance)\n",
        "    theme_minimal() +\n",
        "    # Center title and increase font size\n",
        "    theme(plot.title = element_text(hjust = 0.5, size = 20))\n",
        "  \n",
        "# View map\n",
        "Site_map"
      ],
      "id": "895d963b",
      "execution_count": null,
      "outputs": []
    },
    {
      "cell_type": "markdown",
      "metadata": {},
      "source": [
        "**Challenge**: Can you change the title of the map? Make the change and re-run the code cell above.\n",
        "\n",
        "Let's make the map interactive! You can hover over sites to see their details, draw a box around a specific area to zoom into the region, and click on various legend entries to toggle them on or off. Double click on the map to zoom back out.\n"
      ],
      "id": "8af05da8"
    },
    {
      "cell_type": "code",
      "metadata": {},
      "source": [
        "# Make map interactive\n",
        "ggplotly(Site_map)"
      ],
      "id": "3cc5ddbb",
      "execution_count": null,
      "outputs": []
    },
    {
      "cell_type": "markdown",
      "metadata": {},
      "source": [
        "#### Download & Plot Canopy Greenness\n",
        "\n",
        "Now, let's view some PhenoCam images and greenness data. Choose a site to explore, and enter the site name and relevant information in the cell below. For example, I chose the site \"lacclair\", which represents a deciduous broadleaf (\"DB\") vegetation type, and I chose to look at images from the year 2022. You'll also need to specify which region of interest (ROI) to use for your site. Recall that some sites have multiple ROIs, each with a unique ID number. You can view the possible ROIs for your site on the [PhenoCam website.](https://phenocam.nau.edu/webcam/)\n"
      ],
      "id": "79c7c53e"
    },
    {
      "cell_type": "code",
      "metadata": {},
      "source": [
        "# Choose site to explore \n",
        "# Enter name exactly as it appears in the table/on the website\n",
        "site_name = \"lacclair\"\n",
        "\n",
        "# Indicate vegetation type (listed on site page)\n",
        "veg = \"DB\"\n",
        "\n",
        "# Choose data year (for downloading images later)\n",
        "year = 2022\n",
        "\n",
        "# Indicate ROI ID\n",
        "ROI = 1000\n",
        "\n",
        "# View the objects to make sure correct\n",
        "site_name\n",
        "veg\n",
        "year\n",
        "ROI"
      ],
      "id": "df06f4aa",
      "execution_count": null,
      "outputs": []
    },
    {
      "cell_type": "markdown",
      "metadata": {},
      "source": [
        "First, we'll download canopy greenness (GCC = green chromatic coordinate) timeseries data for your chosen site. The GCC data are already condensed down to 1-day and 3-day data products (type = '3day' or '1day'). See [Richardson et al. (2018)](https://www.nature.com/articles/sdata201828) for more information about PhenoCam data processing.\n"
      ],
      "id": "6058ba7d"
    },
    {
      "cell_type": "code",
      "metadata": {},
      "source": [
        "# Download GCC timeseries\n",
        "GCC_timeseries <- get_pheno_ts(site = site_name, \n",
        "                               vegType = veg, \n",
        "                               roiID = ROI, \n",
        "                               type = '3day')\n",
        "\n",
        "# View table and available data (column names)\n",
        "View(GCC_timeseries) \n",
        "colnames(GCC_timeseries)"
      ],
      "id": "92d88bb6",
      "execution_count": null,
      "outputs": []
    },
    {
      "cell_type": "markdown",
      "metadata": {},
      "source": [
        "Now, we'll plot the GCC timeseries to see how canopy greenness changes over time at your chosen site. From the \"GCC_timeseries\" table, we'll plot the variable called \"gcc_90\", which corresponds to the 90th percentile of GCC values across the 3-day window within the designated ROI. Using the 90th percentile (rather than the mean) reduces the influence of changing weather and brightness across the images. See [Richardson et al. (2018)](https://www.nature.com/articles/sdata201828) for more details on data products and processing.\n"
      ],
      "id": "b404904e"
    },
    {
      "cell_type": "code",
      "metadata": {},
      "source": [
        "# Put date into date format\n",
        "GCC_timeseries[,date:=as.Date(date)]\n",
        "\n",
        "# Adjust plot area margins\n",
        "par(mar=c(5, 6, 4, 2))\n",
        "\n",
        "# Create line plot\n",
        "plot(GCC_timeseries$date, GCC_timeseries$gcc_90,\n",
        "     # Choose line color & type\n",
        "     col = \"darkgreen\", type = \"b\",\n",
        "     # Change font size\n",
        "     cex = 1.5, cex.lab = 2, cex.axis = 2, cex.main = 3,\n",
        "     # Add axis labels\n",
        "     xlab = \"Date\", ylab = \"GCC\", \n",
        "     # Add title\n",
        "     main = paste0(site_name, \": \", \"Canopy Greenness Timeseries\"))"
      ],
      "id": "14b6d0dc",
      "execution_count": null,
      "outputs": []
    },
    {
      "cell_type": "markdown",
      "metadata": {},
      "source": [
        "*Note: Since the plot isn't saved as an object, it only appears in the built-in plot viewer for R. However, you can right click on the plot to copy and paste it elsewhere. If you accidentally close a plot and want to see it again, just re-run the code cell that created it.*\n",
        "\n",
        "#### Explore Seasonal Transition Dates\n",
        "\n",
        "We can also download and plot the 50% seasonal transition dates (spring green-up and fall brown-down) for your site. We'll use another package called \"[phenocamr\"](https://github.com/bluegreen-labs/phenocamr/tree/master) to download the transition dates.\n"
      ],
      "id": "212e409a"
    },
    {
      "cell_type": "code",
      "metadata": {},
      "source": [
        "# Download csv files of (1) GCC timeseries and (2) transition dates\n",
        "# They will save in your designated directory (dir)\n",
        "download_phenocam(site = site_name,\n",
        "                  veg_type = veg,\n",
        "                  frequency = 3,\n",
        "                  phenophase = TRUE,\n",
        "                  out_dir = dir)\n",
        "\n",
        "# Read in the transition date csv file:\n",
        "\n",
        "# Designate file location\n",
        "trans_dates_path <- paste0(dir, \"/\", site_name, \"_\", veg, \"_\", ROI, \"_3day_transition_dates.csv\")\n",
        "\n",
        "#Read in file\n",
        "trans_dates <- read.table(trans_dates_path,\n",
        "                 header = TRUE,\n",
        "                 sep = \",\")\n",
        "\n",
        "#View file\n",
        "View(trans_dates)"
      ],
      "id": "37754dd0",
      "execution_count": null,
      "outputs": []
    },
    {
      "cell_type": "markdown",
      "metadata": {},
      "source": [
        "Now we'll plot the transition dates on the GCC timeseries.\n"
      ],
      "id": "13ec9abb"
    },
    {
      "cell_type": "code",
      "metadata": {},
      "source": [
        "# Pull out transition dates from the trans_dates table\n",
        "\n",
        "# Select the rising (spring dates) for 50% threshold of Gcc 90\n",
        "td_rise <- trans_dates[trans_dates$direction == \"rising\" & trans_dates$gcc_value == \"gcc_90\",]\n",
        "\n",
        "# Select the falling (fall dates) for 50% threshold of Gcc 90\n",
        "td_fall <- trans_dates[trans_dates$direction == \"falling\" & trans_dates$gcc_value == \"gcc_90\",]\n",
        "\n",
        "\n",
        "# As above, create a simple line graph of the Green Chromatic Coordinate (GCC)\n",
        "\n",
        "# Plot- this time use \"type = 1\" to create a smooth line graph\n",
        "plot(GCC_timeseries$date, GCC_timeseries$gcc_90, \n",
        "     col = \"black\", type = \"l\",\n",
        "     cex = 2, cex.lab = 2, cex.axis = 2, cex.main = 3,\n",
        "     xlab = 'Date', ylab = 'GCC', \n",
        "     main = paste0(site_name, ': ', 'Seasonal Transition Dates'))\n",
        "\n",
        "\n",
        "# Add points to show transition dates:\n",
        "\n",
        "# Spring green-up\n",
        "points(x = as.Date(td_rise$transition_50, origin = \"1970-01-01\"),\n",
        "       y = td_rise$threshold_50,\n",
        "       pch = 19, cex = 2,\n",
        "       col = \"green\")\n",
        "\n",
        "# Fall brown-down\n",
        "points(x = as.Date(td_fall$transition_50, origin = \"1970-01-01\"),\n",
        "       y = td_fall$threshold_50,\n",
        "       pch = 19, cex = 2,\n",
        "       col = \"brown\")"
      ],
      "id": "bba2a5dd",
      "execution_count": null,
      "outputs": []
    },
    {
      "cell_type": "markdown",
      "metadata": {},
      "source": [
        "Now, let's explore the variability of seasonal transition dates throughout the available data years. This works best if you chose a site with a longer timeseries. We'll first convert the transition dates into a \"day-of-year\" (DOY) format (e.g., Jan 1 = DOY 1, Jan 2 = DOY 2, etc.), and then plot those by year.\n"
      ],
      "id": "52ce26b7"
    },
    {
      "cell_type": "code",
      "metadata": {},
      "source": [
        "# Convert green-up dates to date format and then DOY\n",
        "td_spring_dates <- as.Date(td_rise$transition_50,format='%Y-%m-%d')\n",
        "td_spring_DOY <- lubridate::yday(td_spring_dates)\n",
        "\n",
        "# Convert brown-down dates to date format and then DOY\n",
        "td_fall_dates <- as.Date(td_fall$transition_50,format='%Y-%m-%d')\n",
        "td_fall_DOY <- lubridate::yday(td_fall_dates)\n",
        "\n",
        "# Extract spring data years\n",
        "years_spr <- as.numeric(format(td_spring_dates,'%Y'))\n",
        "\n",
        "# Create table of years and spring transition dates\n",
        "trans_table_spring <- data.frame(years_spr, td_spring_DOY)\n",
        "\n",
        "# Plot spring green-up dates\n",
        "plot(trans_table_spring[,1],trans_table_spring[,2], \n",
        "    type = \"b\", col = \"darkgreen\",\n",
        "    cex = 2, cex.lab = 2, cex.axis = 2, cex.main = 3,\n",
        "    xlab = 'Year', ylab = 'Spring Transition Date (DOY)',\n",
        "    main = paste0(site_name, ': ', 'Date of Spring Onset Through the Years'))"
      ],
      "id": "dcf7b836",
      "execution_count": null,
      "outputs": []
    },
    {
      "cell_type": "markdown",
      "metadata": {},
      "source": [
        "And now plot the fall brown-down transition dates.\n"
      ],
      "id": "bf631689"
    },
    {
      "cell_type": "code",
      "metadata": {},
      "source": [
        "# Extract fall data years\n",
        "years_fall <- as.numeric(format(td_fall_dates,'%Y'))\n",
        "\n",
        "# Create table of years and fall transition dates\n",
        "trans_table_fall <- data.frame(years_fall, td_fall_DOY)\n",
        "\n",
        "# Plot fall brown-down dates\n",
        "plot(trans_table_fall[,1],trans_table_fall[,2], \n",
        "     type = \"b\", col = \"brown\",\n",
        "     cex = 2, cex.lab = 2, cex.axis = 2, cex.main = 3,\n",
        "     xlab = 'Year', ylab = 'Autumn Transition Date (DOY)',\n",
        "     main = paste0(site_name, ': ', 'Date of Autumn Onset Through the Years'))"
      ],
      "id": "f39e1d4f",
      "execution_count": null,
      "outputs": []
    },
    {
      "cell_type": "markdown",
      "metadata": {},
      "source": [
        "As you can see, there is a decent amount of year-to-year variability in when a site greens up (spring) or browns down (fall), directly impacting the total length of the growing sesason. This variability is largely due to differences in weather, such as precipitation and temperature. Climate change is also shifting seasonal transition dates, which can impact many other variables, such as plant-animal interactions and ecosystem carbon and water storage.\n",
        "\n",
        "### Download PhenoCam Images\n",
        "\n",
        "Next, we'll download some photos from your chosen site. Images are typically taken every 30 minutes, but for simplicity, we'll just download 1 image per month in order to visualize phenology changes. This code downloads the midday (\\~12 pm) image for the 15th day (\"days = 15\") of each month (\"months = 1:12\") for the year you chose above. The images will appear in the folder you designated above (dir).\n"
      ],
      "id": "bb884693"
    },
    {
      "cell_type": "code",
      "metadata": {},
      "source": [
        "# Download PhenoCam images\n",
        "download_midday_images(site = site_name,\n",
        "                       y = year, \n",
        "                       months = 1:12, \n",
        "                       days = 15,\n",
        "                       download_dir = dir)"
      ],
      "id": "9fadacaf",
      "execution_count": null,
      "outputs": []
    },
    {
      "cell_type": "markdown",
      "metadata": {},
      "source": [
        "Now, we'll use those images to create a photo collage that displays changes in phenology throughout the year. First, we'll set it up and check that it's working correctly. You should have 12 images (1 per month), so when you run the code below, \"n\" should equal 12. If not, look in your \"dir\" (pheno_images) folder and make sure it only includes images for a single PhenoCam site. If you have more than 12, right click on the images you don't want and delete them from the folder.\n"
      ],
      "id": "07584aed"
    },
    {
      "cell_type": "code",
      "metadata": {},
      "source": [
        "# Isolate images from your designated directory\n",
        "# Pics are jpeg format\n",
        "middays_path <- dir(dir, pattern = \"*.jpg\", full.names = TRUE)\n",
        "\n",
        "# See a sample of image directory paths to make sure it worked\n",
        "head(middays_path)\n",
        "\n",
        "# Determine number of images (should be 12, 1 per month)\n",
        "n <- length(middays_path)\n",
        "n"
      ],
      "id": "2f710f33",
      "execution_count": null,
      "outputs": []
    },
    {
      "cell_type": "markdown",
      "metadata": {},
      "source": [
        "Then we'll create the layout.\n"
      ],
      "id": "f6c81e66"
    },
    {
      "cell_type": "code",
      "metadata": {},
      "source": [
        "# Set up image layout (4 rows & 3 columns)\n",
        "par(mar= c(0,0,0,0), mfrow=c(4,3), oma=c(0,23,3,23))\n",
        "\n",
        "# Create monthly image layout with labels (this can take 1-2 min)\n",
        "for(i in 1:n){\n",
        "  img <- jpeg::readJPEG(middays_path[i])\n",
        "  plot(0:1,0:1, type='n', axes= FALSE, xlab= '', ylab = '')\n",
        "  rasterImage(img, 0, 0, 1, 1)\n",
        "  mtext(month.name[i], line = -2)\n",
        "}\n",
        "\n",
        "# Add title (feel free to edit the title below)\n",
        "mtext(paste0(site_name, ': ', 'Canopy Greenness Through the Months'), font = 2, cex = 1.8, outer = TRUE)"
      ],
      "id": "040c5e2f",
      "execution_count": null,
      "outputs": []
    },
    {
      "cell_type": "markdown",
      "metadata": {},
      "source": [
        "Finally, we'll use those same images to create a gif that shows changes in phenology over time. This is great to use in presentations to visualize seasonal transitions!\n"
      ],
      "id": "df73ce28"
    },
    {
      "cell_type": "code",
      "metadata": {},
      "source": [
        "# Make timelapse gif of images\n",
        "gif <- list.files(path = dir, pattern = \"*.jpg\", full.names = T) %>% \n",
        "\n",
        "  purrr::map(image_read) %>% \n",
        "  \n",
        "  image_join() %>% \n",
        "  \n",
        "  # Add text to each image -  you can change the size, location, color below\n",
        "  image_annotate(paste(site_name,\"Jan-Dec\", year), \n",
        "                 location = \"+900+30\", \n",
        "                 size = 35, \n",
        "                 color = \"black\") %>%\n",
        "  \n",
        "  # Frames per second (higher number = faster, lower number = slower)\n",
        "  image_animate(fps=0.5) %>%\n",
        "  \n",
        "  # Designate file name & save to your directory\n",
        "  image_write(paste0(dir,\"/MonthlyGreenness_gif.gif\")) \n",
        "\n",
        "# The gif will be saved to the directory you indicated at the beginning \n",
        "# You can check the directory path below\n",
        "dir"
      ],
      "id": "ff13b08a",
      "execution_count": null,
      "outputs": []
    },
    {
      "cell_type": "markdown",
      "metadata": {},
      "source": [
        "As an example, here's the gif I made for the lacclair site. Your gif will be saved to the directory you indicated at the beginning (dir). If you want to save it, right click on the gif file name and select \"download\".\n",
        "\n",
        "<img src=\"images/MonthlyGreenness_gif.gif\" align=\"left\" width=\"750\"/>/\n",
        "\n",
        "### Explore another site!\n",
        "\n",
        "Now try this exercise with another PhenoCam site. Perhaps choose a different ecosystem type. Think about how seasonal greenness patterns differ between sites. What do you think causes these differences?\n",
        "\n",
        "To do this, edit the cell near the beginning where you assign the site name, vegetation type, year, and ROI (in the \"Download & Plot Canopy Greenness\" section). Be sure to re-run that cell and all cells below it in sequential order.\n",
        "\n",
        "\\*\\***But before trying a new site, run this code cell** to re-set your plotting parameters and delete all the downloaded files in your \"pheno_images\" (dir) folder. Be sure to download your gif first if you want to save a copy.\n"
      ],
      "id": "9aeb5dc2"
    },
    {
      "cell_type": "code",
      "metadata": {},
      "source": [
        "# Reset plotting parameters\n",
        "dev.off()\n",
        "\n",
        "# List all files in \"pheno_images\"\n",
        "f <- list.files(dir, include.dirs = F, full.names = T, recursive = T)\n",
        "\n",
        "# Remove the files\n",
        "file.remove(f)"
      ],
      "id": "716923ef",
      "execution_count": null,
      "outputs": []
    },
    {
      "cell_type": "markdown",
      "metadata": {},
      "source": [
        "#### Thank you\n",
        "\n",
        "Thanks for exploring PhenoCam data. Hopefully, you have a stronger appreciation for phenology now!"
      ],
      "id": "5e89ded6"
    }
  ],
  "metadata": {
    "kernelspec": {
      "name": "ir",
      "language": "R",
      "display_name": "R"
    }
  },
  "nbformat": 4,
  "nbformat_minor": 5
}