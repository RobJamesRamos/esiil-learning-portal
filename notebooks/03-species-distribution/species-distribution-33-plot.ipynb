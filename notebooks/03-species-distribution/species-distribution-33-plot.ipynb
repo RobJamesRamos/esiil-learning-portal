{
  "cells": [
    {
      "cell_type": "markdown",
      "metadata": {},
      "source": [
        "## STEP 5: Plot the Tasiyagnunpa observations by month\n",
        "\n",
        "First thing first -- let's load your stored variables and import libraries.\n"
      ],
      "id": "f720917d"
    },
    {
      "cell_type": "code",
      "metadata": {},
      "source": [
        "%store -r"
      ],
      "id": "510facc6",
      "execution_count": null,
      "outputs": []
    },
    {
      "cell_type": "code",
      "metadata": {},
      "source": [
        "# Libraries for Dynamic mapping\n",
        "import cartopy.crs as ccrs\n",
        "import hvplot.pandas\n",
        "import panel as pn"
      ],
      "id": "0d2f5bfd",
      "execution_count": null,
      "outputs": []
    },
    {
      "cell_type": "markdown",
      "metadata": {},
      "source": [
        "### Create a simplified `GeoDataFrame` for plotting\n",
        "\n",
        "Plotting larger files can be time consuming. The code below will streamline plotting with `hvplot` by simplifying the geometry, projecting it to a Mercator projection that is compatible with `geoviews`, and cropping off areas in the Arctic.\n",
        "\n",
        "::: {.callout-task title=\"Simplify ecoregion data\"}\n",
        "\n",
        "Download and save ecoregion boundaries from the EPA:\n",
        "\n",
        "1.  Make a copy of your ecoregions `GeoDataFrame` with the `.copy()` method, and save it to another variable name. Make sure to do everything else in this cell with your new copy!\n",
        "2.  Simplify the ecoregions with `.simplify(1000)`, and save it back to the `geometry` column.\n",
        "3.  Change the Coordinate Reference System (CRS) to Mercator with `.to_crs(ccrs.Mercator())`\n",
        "4.  Use the plotting code in the cell to check that the plotting runs quickly and looks the way you want, making sure to change `gdf` to YOUR `GeoDataFrame` name.\n",
        ":::\n"
      ],
      "id": "1845caf6"
    },
    {
      "cell_type": "code",
      "metadata": {
        "class": "student-code",
        "highlight": true
      },
      "source": [
        "#| echo: true\n",
        "#| eval: false\n",
        "\n",
        "# Make a copy of the ecoregions\n",
        "\n",
        "# Simplify the geometry to speed up processing\n",
        "\n",
        "# Change the CRS to Mercator for mapping\n",
        "\n",
        "# Check that the plot runs in a reasonable amount of time\n",
        "gdf.hvplot(geo=True, crs=ccrs.Mercator())"
      ],
      "id": "1aa4fb6d",
      "execution_count": null,
      "outputs": []
    },
    {
      "cell_type": "markdown",
      "metadata": {},
      "source": [
        "::: {.content-visible when-format=\"html\"}"
      ],
      "id": "8293b2fc"
    },
    {
      "cell_type": "code",
      "metadata": {
        "class": "answer-code",
        "highlight": true
      },
      "source": [
        "#| echo: true\n",
        "#| eval: true\n",
        "#| code-fold: true\n",
        "#| code-summary: See our solution!\n",
        "# Make a copy of the ecoregions\n",
        "ecoregions_plot_gdf = ecoregions_gdf.copy()\n",
        "\n",
        "# Simplify the geometry to speed up processing\n",
        "ecoregions_plot_gdf.geometry = ecoregions_plot_gdf.simplify(1000)\n",
        "\n",
        "# Change the CRS to Mercator for mapping\n",
        "ecoregions_plot_gdf = ecoregions_plot_gdf.to_crs(ccrs.Mercator())\n",
        "\n",
        "# Check that the plot runs\n",
        "ecoregions_plot_gdf.hvplot(geo=True, crs=ccrs.Mercator())"
      ],
      "id": "d85c9d31",
      "execution_count": null,
      "outputs": []
    },
    {
      "cell_type": "markdown",
      "metadata": {},
      "source": [
        ":::\n",
        "\n",
        "::: {.callout-task title=\"Map migration over time\"}\n",
        "\n",
        "1. If applicable, replace any variable names with the names you defined previously.\n",
        "2. Replace `column_name_used_for_ecoregion_color` and `column_name_used_for_slider` with the column names you wish to use.\n",
        "3. Customize your plot with your choice of title, tile source, color map, and size.\n",
        ":::\n"
      ],
      "id": "55d0fe1d"
    },
    {
      "cell_type": "code",
      "metadata": {
        "class": "student-code",
        "highlight": true
      },
      "source": [
        "#| echo: true\n",
        "#| eval: false\n",
        "# Join the occurrences with the plotting GeoDataFrame\n",
        "occurrence_gdf = ecoregions_plot_gdf.join(occurrence_df)\n",
        "\n",
        "# Get the plot bounds so they don't change with the slider\n",
        "xmin, ymin, xmax, ymax = occurrence_gdf.total_bounds\n",
        "\n",
        "# Plot occurrence by ecoregion and month\n",
        "migration_plot = (\n",
        "    occurrence_gdf\n",
        "    .hvplot(\n",
        "        c=column_name_used_for_shape_color,\n",
        "        groupby=column_name_used_for_slider,\n",
        "        # Use background tiles\n",
        "        geo=True, crs=ccrs.Mercator(), tiles='CartoLight',\n",
        "        title=\"Your Title Here\",\n",
        "        xlim=(xmin, xmax), ylim=(ymin, ymax),\n",
        "        frame_height=600,\n",
        "        widget_location='bottom'\n",
        "    )\n",
        ")\n",
        "\n",
        "# Save the plot\n",
        "migration_plot.save('migration.html', embed=True)\n",
        "\n",
        "# Show the plot\n",
        "migration_plot"
      ],
      "id": "fea4f8e3",
      "execution_count": null,
      "outputs": []
    },
    {
      "cell_type": "markdown",
      "metadata": {},
      "source": [
        "::: {.content-visible when-format=\"html\"}"
      ],
      "id": "99255ea3"
    },
    {
      "cell_type": "code",
      "metadata": {
        "class": "answer-code",
        "highlight": true
      },
      "source": [
        "#| echo: true\n",
        "#| eval: true\n",
        "#| code-fold: true\n",
        "#| code-summary: See our solution!\n",
        "# Join the occurrences with the plotting GeoDataFrame\n",
        "occurrence_gdf = ecoregions_plot_gdf.join(occurrence_df)\n",
        "\n",
        "# Get the plot bounds so they don't change with the slider\n",
        "xmin, ymin, xmax, ymax = occurrence_gdf.total_bounds\n",
        "\n",
        "# Define the slider widget\n",
        "slider = pn.widgets.DiscreteSlider(\n",
        "    name='month', \n",
        "    options={calendar.month_name[i]: i for i in range(1, 13)}\n",
        ")\n",
        "\n",
        "# Plot occurrence by ecoregion and month\n",
        "migration_plot = (\n",
        "    occurrence_gdf\n",
        "    .hvplot(\n",
        "        c='norm_occurrences',\n",
        "        groupby='month',\n",
        "        # Use background tiles\n",
        "        geo=True, crs=ccrs.Mercator(), tiles='CartoLight',\n",
        "        title=\"Veery migration\",\n",
        "        xlim=(xmin, xmax), ylim=(ymin, ymax),\n",
        "        frame_height=600,\n",
        "        colorbar=False,\n",
        "        widgets={'month': slider},\n",
        "        widget_location='bottom'\n",
        "    )\n",
        ")\n",
        "\n",
        "# Save the plot\n",
        "migration_plot.save('migration.html', embed=True)\n",
        "\n",
        "# Show the plot\n",
        "migration_plot"
      ],
      "id": "b2c43d29",
      "execution_count": null,
      "outputs": []
    },
    {
      "cell_type": "markdown",
      "metadata": {},
      "source": [
        ":::\n",
        "\n",
        "::: {.content-visible when-format=\"html\"}\n",
        "\n",
        "```{=html}\n",
        "<embed type=\"text/html\" src=\"migration.html\" width=\"600\" height=\"800\">\n",
        "```\n",
        "\n",
        ":::\n",
        "\n",
        "::: {.callout-extra title=\"Fix the month labels\"}\n",
        "\n",
        "Notice that the `month` slider displays numbers instead of the month name. Use `pn.widgets.DiscreteSlider()` with the `options=` parameter set to give the months names. You might want to try asking ChatGPT how to do this, or look at the documentation for `pn.widgets.DiscreteSlider()`. This is pretty tricky!\n",
        ":::"
      ],
      "id": "17e5e65e"
    }
  ],
  "metadata": {
    "kernelspec": {
      "name": "python3",
      "language": "python",
      "display_name": "Python 3 (ipykernel)"
    }
  },
  "nbformat": 4,
  "nbformat_minor": 5
}