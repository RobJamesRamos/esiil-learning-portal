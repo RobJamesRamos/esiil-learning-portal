{
  "cells": [
    {
      "cell_type": "markdown",
      "metadata": {},
      "source": [
        "# Part 4: Plot your results\n",
        "\n",
        "::: {.content-visible when-format=\"ipynb\"}\n",
        "First things first -- make sure to load the climate `DataFrame` you stored in the previous notebooks using Jupyter cell magic:\n"
      ],
      "id": "521afc4e"
    },
    {
      "cell_type": "code",
      "metadata": {},
      "source": [
        "# Load all stored variables\n",
        "%store -r"
      ],
      "id": "ad85cf95",
      "execution_count": null,
      "outputs": []
    },
    {
      "cell_type": "markdown",
      "metadata": {},
      "source": [
        ":::\n",
        "\n",
        "\n",
        "You'll also need some libraries later on. This is an extension to `pandas` that will allow you to easily make beautiful, interactive plots, and a related library that will let you save your plots:\n"
      ],
      "id": "a3124428"
    },
    {
      "cell_type": "code",
      "metadata": {},
      "source": [
        "import holoviews as hv\n",
        "import hvplot.pandas"
      ],
      "id": "2d75ee86",
      "execution_count": null,
      "outputs": []
    },
    {
      "cell_type": "markdown",
      "metadata": {},
      "source": [
        "## Plot the precpitation column (PRCP) vs time to explore the data\n",
        "\n",
        "Plotting in Python is easy, but not quite this easy:\n"
      ],
      "id": "66571770"
    },
    {
      "cell_type": "code",
      "metadata": {
        "class": "student-code",
        "highlight": true
      },
      "source": [
        "#| echo: true\n",
        "#| eval: false\n",
        "climate_df.plot()"
      ],
      "id": "4b0a10e6",
      "execution_count": null,
      "outputs": []
    },
    {
      "cell_type": "markdown",
      "metadata": {},
      "source": [
        "Looks like we have *both* precipitation and temperature on the same plot, and it's hard to see what it is because it's missing labels!\n",
        "\n",
        "::: {.callout-tip}\n",
        "### **Label your plot**\n",
        "\n",
        "![Source: https://xkcd.com/833](https://imgs.xkcd.com/comics/convincing.png)\n",
        "\n",
        "Make sure each plot has: \n",
        "\n",
        "  * A title that explains where and when the data are from \n",
        "  * x- and y- axis labels with **units** where appropriate \n",
        "  * A legend where appropriate\n",
        ":::\n",
        "\n",
        "When plotting in Python, you'll always need to add some instructions on labels and how you want your plot to look.\n",
        "\n",
        "::: {.callout-task title=\"Plot your data\"}\n",
        "\n",
        "1.  Change `dataframe` to **your** `DataFrame` name.\n",
        "2.  Change `y=` to the name of your **observed temperature** column name.\n",
        "3.  Use the `title`, `ylabel`, and `xlabel` parameters to add key text to your plot.\n",
        "4.  Adjust the size of your figure using `figsize=(x,y)` where `x` is figure width and `y` is figure height\n",
        "\n",
        "> **HINT:** labels have to be a *type* in Python called a **string**. You can make a string by putting quotes around your label, just like the column names in the sample code (eg `y='TOBS'`).\n",
        ":::\n"
      ],
      "id": "9d3bce11"
    },
    {
      "cell_type": "code",
      "metadata": {
        "class": "student-code",
        "highlight": true
      },
      "source": [
        "#| echo: true\n",
        "#| eval: false\n",
        "# Plot the data using .plot\n",
        "climate_df.plot(\n",
        "    y='the_precipitation_column',\n",
        "    title='Title Goes Here',\n",
        "    xlabel='Horizontal Axis Label Goes Here',\n",
        "    ylabel='Vertical Axis Label Goes Here')"
      ],
      "id": "1c94e9ba",
      "execution_count": null,
      "outputs": []
    },
    {
      "cell_type": "markdown",
      "metadata": {},
      "source": [
        "::: {.content-visible when-format=\"html\"}\n"
      ],
      "id": "7622b1cc"
    },
    {
      "cell_type": "code",
      "metadata": {
        "class": "answer-code",
        "highlight": true
      },
      "source": [
        "#| echo: true\n",
        "#| eval: true\n",
        "#| code-fold: true\n",
        "#| code-summary: See our solution!\n",
        "# Plot the data using .plot\n",
        "climate_df.plot(\n",
        "    y='TOBS',\n",
        "    title='Daily Temperature in Boulder, CO',\n",
        "    xlabel='Date',\n",
        "    ylabel='Temperature ($^\\circ$F)')"
      ],
      "id": "e2504912",
      "execution_count": null,
      "outputs": []
    },
    {
      "cell_type": "markdown",
      "metadata": {},
      "source": [
        ":::\n",
        "\n",
        "::: {.callout-extra}\n",
        "\n",
        "There are many other things you can do to customize your plot. Take a look at the [pandas plotting galleries](https://pandas.pydata.org/docs/user_guide/visualization.html) and the [documentation of plot](https://pandas.pydata.org/docs/reference/api/pandas.DataFrame.plot.html) to see if there's other changes you want to make to your plot. Some possibilities include: \n",
        "\n",
        "  * Remove the legend since there's only one data series \n",
        "  * Increase the figure size \n",
        "  * Increase the font size \n",
        "  * Change the colors \n",
        "  * Use a bar graph instead (usually we use lines for time series, but since this is annual it could go either way) \n",
        "  * Add a trend line\n",
        "\n",
        "Not sure how to do any of these? Try searching the internet, or asking an AI!\n",
        ":::\n",
        "\n",
        "## Clean up time series plots by resampling\n",
        "\n",
        "You may notice that your plot looks a little \"fuzzy\". This happens when Python is trying to plot a value for every date, but the resolution of the image is too low to actually do that. You can address this issue by **resampling** the data, or summarizing it over a time period of your choice. In this case, we will resample annually, giving us one data point per year.\n",
        "\n",
        "::: {.callout-task title=\"Resample\"}\n",
        "\n",
        "  1. Set the frequency of your final data by replacing `DT_OFFSET`with a **Datetime Offset Code**. Check out the table in the [pandas datetime documentation](https://pandas.pydata.org/pandas-docs/stable/user_guide/timeseries.html#dateoffset-objects) to find the one you want (we recommend the start of the year).\n",
        "  2. Choose how to summarize each year of data by replacing `agg_method_here` with a method that will calculate the **average annual value**. Check out the [pandas resampling documentation](https://pandas.pydata.org/pandas-docs/stable/user_guide/timeseries.html#basics) for a list of common built-in options.\n",
        ":::\n"
      ],
      "id": "6f44aa02"
    },
    {
      "cell_type": "code",
      "metadata": {
        "class": "student-code",
        "highlight": true
      },
      "source": [
        "#| echo: true\n",
        "#| eval: false\n",
        "ann_climate_df = climate_df.resample('DT_OFFSET').agg_method_here()\n",
        "ann_climate_df"
      ],
      "id": "865e7f0c",
      "execution_count": null,
      "outputs": []
    },
    {
      "cell_type": "markdown",
      "metadata": {},
      "source": [
        "::: {.content-visible when-format=\"html\"}\n"
      ],
      "id": "d150b70c"
    },
    {
      "cell_type": "code",
      "metadata": {
        "class": "answer-code",
        "highlight": true
      },
      "source": [
        "#| echo: true\n",
        "#| eval: true\n",
        "#| code-fold: true\n",
        "#| code-summary: See our solution!\n",
        "ann_climate_df = climate_df.resample('YS').mean()\n",
        "# Store for later\n",
        "%store ann_climate_df\n",
        "ann_climate_df"
      ],
      "id": "41b9d914",
      "execution_count": null,
      "outputs": []
    },
    {
      "cell_type": "markdown",
      "metadata": {},
      "source": [
        ":::\n",
        "\n",
        "::: {.callout-task title=\"Plot Annual Data\"}\n",
        "\n",
        "  1. Try plotting your new DataFrame in the cell below. Can you see what is going on more clearly now? Don't forget to adjust your labels!\n",
        ":::\n"
      ],
      "id": "78144ce9"
    },
    {
      "cell_type": "code",
      "metadata": {
        "class": "student-code",
        "highlight": true
      },
      "source": [
        "#| echo: true\n",
        "#| eval: false\n",
        "# Plot the annual data"
      ],
      "id": "8a0d55c1",
      "execution_count": null,
      "outputs": []
    },
    {
      "cell_type": "markdown",
      "metadata": {},
      "source": [
        "::: {.content-visible when-format=\"html\"}\n"
      ],
      "id": "66abf7d5"
    },
    {
      "cell_type": "code",
      "metadata": {
        "class": "answer-code",
        "highlight": true
      },
      "source": [
        "#| echo: true\n",
        "#| eval: true\n",
        "#| code-fold: true\n",
        "#| code-summary: See our solution!\n",
        "# Plot the annual data using .plot\n",
        "ann_climate_df.plot(\n",
        "    y='TOBS',\n",
        "    title='Annual Average Temperature in Boulder, CO',\n",
        "    xlabel='Year',\n",
        "    ylabel='Temperature ($^\\circ$F)'\n",
        ")"
      ],
      "id": "29297053",
      "execution_count": null,
      "outputs": []
    },
    {
      "cell_type": "markdown",
      "metadata": {},
      "source": [
        ":::\n",
        "\n",
        "::: {.cell .markdown}\n",
        ":::: {.callout-respond title=\"Interpret your plot\"}\n",
        "\n",
        "  1. Create a new Markdown cell below this one.\n",
        "\n",
        "  2. In the new cell, answer the following questions using a **bulleted list** in Markdown -- what are 2 things you notice about this data? What physical phenomena or data anomaly could be causing each one?\n",
        "\n",
        "::::: {.content-visible when-profile=\"graded\"}\n",
        "Rubric:\n",
        "\n",
        "| Task | Max Points | Points | Comments |\n",
        "|------|------------|--------|----------|\n",
        "| Create Markdown cell             | 1 |  |  |\n",
        "| Use a bulleted list              | 2 |  |  |\n",
        "| Thoughtful response to question  | 4 |  |  |\n",
        "| Easily readable                  | 1 |  |  |\n",
        ":::::\n",
        "::::\n",
        ":::\n",
        "\n",
        "## Check specific values with an interactive plot\n",
        "\n",
        "You can use the `.hvplot()` method with similar arguments to create an interactive plot. \n",
        "\n",
        "::: {.callout-task title=\"Interactive Plot\"}\n",
        "\n",
        "  1. Copy your plotting code into the cell below.\n",
        "  2. Replace `.plot` in your code with `.hvplot`\n",
        "\n",
        " Now, you should be able to hover over data points and see their values!\n",
        ":::\n"
      ],
      "id": "ebd30310"
    },
    {
      "cell_type": "code",
      "metadata": {
        "class": "student-code",
        "highlight": true
      },
      "source": [
        "#| echo: true\n",
        "#| eval: false\n",
        "# Plot the annual data interactively"
      ],
      "id": "11c324a2",
      "execution_count": null,
      "outputs": []
    },
    {
      "cell_type": "markdown",
      "metadata": {},
      "source": [
        "::: {.content-visible when-format=\"html\"}\n"
      ],
      "id": "b52b8e5b"
    },
    {
      "cell_type": "code",
      "metadata": {
        "class": "answer-code",
        "highlight": true
      },
      "source": [
        "#| echo: true\n",
        "#| eval: true\n",
        "#| code-fold: true\n",
        "#| code-summary: See our solution!\n",
        "# Plot the annual data using .hvplot\n",
        "ann_climate_plot = ann_climate_df.hvplot(\n",
        "    y='TOBS',\n",
        "    title='Annual Average Temperature in Boulder, CO',\n",
        "    xlabel='Year',\n",
        "    ylabel='Temperature (deg. F)'\n",
        ")\n",
        "ann_climate_plot"
      ],
      "id": "0540ade5",
      "execution_count": null,
      "outputs": []
    },
    {
      "cell_type": "markdown",
      "metadata": {},
      "source": [
        ":::\n",
        "\n",
        "::: {.cell .markdown}\n",
        ":::: {.callout-task title=\"Explore the data\"}\n",
        "\n",
        "  1. Create a new Markdown cell below this one.\n",
        "\n",
        "  2. Hover over the lowest point on your plot. What is the overall minimum annual average temperature?\n",
        "\n",
        "::::\n",
        ":::\n",
        "\n",
        "## BONUS: Save your work\n",
        "\n",
        "You will need to save your analyses and plots to tell others about what you find.\n",
        "\n",
        "::: {.callout-task title=\"Save Your Plot\"}\n",
        "\n",
        "Just like with any other type of object in Python, if you want to reuse your work, you need to give it a name.\n",
        "\n",
        "  1. Go back to your `hvplot` code, and give your plot a name by assigning it to a variable. HINT: if you still want your plot to display in your notebook, make sure to **call** its name at the end of the cell.\n",
        "  2. Replace `my_plot` with the name you gave to your plot.\n",
        "  3. Replace `'my_plot.html'` with the name you want for your plot. If you change the file extension, `.html`, to `.png`, you will get an image instead of an interactive webpage, provided you have the necessary libraries installed.\n",
        "\n",
        "Once you run the code, you should see your saved plot in your files -- go ahead and open it up.\n",
        "\n",
        ":::: {.callout-warning}\n",
        "You may need to right-click on your file and download it to be able to view it.\n",
        "::::\n",
        ":::\n"
      ],
      "id": "e6c10153"
    },
    {
      "cell_type": "code",
      "metadata": {
        "class": "student-code",
        "highlight": true
      },
      "source": [
        "#| echo: true\n",
        "#| eval: false\n",
        "hv.save(my_plot, 'my_plot.html')"
      ],
      "id": "ed1063be",
      "execution_count": null,
      "outputs": []
    },
    {
      "cell_type": "markdown",
      "metadata": {},
      "source": [
        "::: {.content-visible when-format=\"html\"}\n"
      ],
      "id": "de0f53c2"
    },
    {
      "cell_type": "code",
      "metadata": {
        "class": "answer-code",
        "highlight": true
      },
      "source": [
        "#| echo: true\n",
        "#| eval: true\n",
        "#| code-fold: true\n",
        "#| code-summary: See our solution!\n",
        "hv.save(ann_climate_plot, 'annual_climate.html')"
      ],
      "id": "4f4fb329",
      "execution_count": null,
      "outputs": []
    },
    {
      "cell_type": "markdown",
      "metadata": {},
      "source": [
        ":::\n",
        "\n",
        "::: {.content-visible when-format=\"ipynb\"}\n"
      ],
      "id": "8bb4eb27"
    },
    {
      "cell_type": "code",
      "metadata": {},
      "source": [
        "%store ann_climate_df"
      ],
      "id": "723ee3b0",
      "execution_count": null,
      "outputs": []
    },
    {
      "cell_type": "markdown",
      "metadata": {},
      "source": [
        ":::"
      ],
      "id": "4050727e"
    }
  ],
  "metadata": {
    "kernelspec": {
      "name": "python3",
      "language": "python",
      "display_name": "Python 3 (ipykernel)"
    }
  },
  "nbformat": 4,
  "nbformat_minor": 5
}