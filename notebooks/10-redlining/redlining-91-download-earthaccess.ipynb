{
  "cells": [
    {
      "cell_type": "markdown",
      "metadata": {},
      "source": [
        "# Download Data with `earthaccess`\n",
        "\n",
        "\n",
        "\n",
        "## STEP 1: Set up\n",
        "\n",
        "Load your stored variables into memory:\n"
      ],
      "id": "7deca229"
    },
    {
      "cell_type": "code",
      "metadata": {},
      "source": [
        "%store -r denver_redlining_gdf data_dir"
      ],
      "id": "4e9f20d1",
      "execution_count": null,
      "outputs": []
    },
    {
      "cell_type": "markdown",
      "metadata": {},
      "source": [
        "::: {.callout-task title='Import packages'}\n",
        "\n",
        "Add imports for packages that help you:\n",
        "\n",
        "  1. Work with the file system interoperably\n",
        "  2. Work with vector data\n",
        "  3. Create interactive plots of vector data\n",
        "  4. Group and aggregate tabular data\n",
        ":::\n"
      ],
      "id": "699066ea"
    },
    {
      "cell_type": "code",
      "metadata": {
        "class": "student-code",
        "highlight": true
      },
      "source": [
        "#| echo: true\n",
        "#| eval: false\n",
        "import re # Use regular expressions to extract metadata\n",
        "\n",
        "import earthaccess # Access NASA data from the cloud\n",
        "import numpy as np # Process bit-wise cloud mask\n",
        "import rioxarray as rxr # Work with raster data\n",
        "from rioxarray.merge import merge_arrays # Merge rasters"
      ],
      "id": "70240b05",
      "execution_count": null,
      "outputs": []
    },
    {
      "cell_type": "markdown",
      "metadata": {},
      "source": [
        "::: {.content-visible when-format=\"html\"}"
      ],
      "id": "eeaf16b2"
    },
    {
      "cell_type": "code",
      "metadata": {
        "class": "answer-code",
        "highlight": true
      },
      "source": [
        "#| echo: true\n",
        "#| eval: true\n",
        "#| code-fold: true\n",
        "#| code-summary: See our solution!\n",
        "import os # Interoperable file paths\n",
        "import pathlib # Find the home folder\n",
        "import re # Use regular expressions to extract metadata\n",
        "\n",
        "import earthaccess # Access NASA data from the cloud\n",
        "import numpy as np # Process bit-wise cloud mask\n",
        "import pandas as pd # Group and aggregate\n",
        "import rioxarray as rxr # Work with raster data\n",
        "from rioxarray.merge import merge_arrays # Mosaic rasters"
      ],
      "id": "f19d5c14",
      "execution_count": null,
      "outputs": []
    },
    {
      "cell_type": "markdown",
      "metadata": {},
      "source": [
        ":::\n",
        "\n",
        "::: {.callout-task title='Set up `earthaccess` connection'}\n",
        "\n",
        "1. Make an account on the [earthdata site](https://urs.earthdata.nasa.gov/). You don't need to spend a lot of time on the registration form -- go ahead answer their questions to the best of your ability. That information is used for internal reporting and analysis, not to decide whether or not to grant you an account!\n",
        "2. Run the code below an enter your credentials to log into earthaccess from Python. You should only need to do this once, as long as `persist=True` is set.\n",
        "\n",
        ":::\n"
      ],
      "id": "363aedc8"
    },
    {
      "cell_type": "code",
      "metadata": {
        "class": "student-code",
        "highlight": true
      },
      "source": [
        "#| echo: true\n",
        "#| eval: false\n",
        "earthaccess.login(strategy=\"interactive\", persist=True)"
      ],
      "id": "7c2fbbf1",
      "execution_count": null,
      "outputs": []
    },
    {
      "cell_type": "markdown",
      "metadata": {},
      "source": [
        "::: {.content-visible when-format=\"html\"}"
      ],
      "id": "730587d7"
    },
    {
      "cell_type": "code",
      "metadata": {
        "class": "answer-code",
        "highlight": true
      },
      "source": [
        "#| echo: true\n",
        "#| eval: true\n",
        "#| code-fold: true\n",
        "#| code-summary: See our solution!\n",
        "earthaccess.login(strategy=\"interactive\", persist=True)"
      ],
      "id": "b948db60",
      "execution_count": null,
      "outputs": []
    },
    {
      "cell_type": "markdown",
      "metadata": {},
      "source": [
        ":::\n",
        "\n",
        "\n",
        "## STEP 2: Search\n",
        "::: {.callout-task title='Search for HLS data'}\n",
        "\n",
        "It can be useful to use NASA's online resources to find the data you want to download before accessing it over API. To do that:\n",
        "\n",
        "  1. Go to the [NASA Worldview Site](https://worldview.earthdata.nasa.gov/) and search for Denver, CO.\n",
        "  2. Add the `HLSL30` product as a base map. You can do this by clicking `Add Layer` and then searching for the **short name** `HLSL30`. When looking for other datasets, the short name can usually be found by on the data homepage, accessible from the **doi**. Practice opening the data page for `HLSL30` to find where the shortcode is.\n",
        "  3. By dragging the date indicator on the bottom, search the month of July, 2023 for a day that has data available and little to no cloud cover over Denver. You may need to wait a second or so for the data to load for any given date.\n",
        "\n",
        "Now, using the code below:\n",
        "\n",
        "  1. Put the short name of the dataset into the `earthaccess.search_data()` function.\n",
        "  2. Replace `gdf` with the name of your denver redlining `GeoDataFrame`.\n",
        "  3. Put the date you found into the `temporal` parameter, replacing `YYYY-MM-DD` with the appropriate year (Y), month (M), and day (D) digits.\n",
        "  4. Run the code and make sure there are results! If not, double check your date.\n",
        "\n",
        ":::\n"
      ],
      "id": "40ad3749"
    },
    {
      "cell_type": "code",
      "metadata": {
        "class": "student-code",
        "highlight": true
      },
      "source": [
        "#| echo: true\n",
        "#| eval: false\n",
        "denver_results = earthaccess.search_data(\n",
        "    short_name=\"\",\n",
        "    bounding_box=tuple(gdf.total_bounds),\n",
        "    temporal=(\"YYYY-MM-DD\"),\n",
        ")\n",
        "denver_results"
      ],
      "id": "2e368648",
      "execution_count": null,
      "outputs": []
    },
    {
      "cell_type": "markdown",
      "metadata": {},
      "source": [
        "::: {.content-visible when-format=\"html\"}"
      ],
      "id": "857d3566"
    },
    {
      "cell_type": "code",
      "metadata": {
        "class": "answer-code",
        "highlight": true
      },
      "source": [
        "#| echo: true\n",
        "#| eval: true\n",
        "#| code-fold: true\n",
        "#| code-summary: See our solution!\n",
        "denver_results = earthaccess.search_data(\n",
        "    short_name='HLSL30',\n",
        "    bounding_box=tuple(denver_redlining_gdf.total_bounds),\n",
        "    temporal=(\"2023-07-12\", \"2023-07-12\"),\n",
        ")\n",
        "denver_results"
      ],
      "id": "dc9b7c07",
      "execution_count": null,
      "outputs": []
    },
    {
      "cell_type": "markdown",
      "metadata": {},
      "source": [
        ":::\n",
        "\n",
        "## STEP 3: Open data connections\n",
        "\n",
        "::: {.callout-task title='Access HLS data'}\n",
        "\n",
        ":::\n"
      ],
      "id": "e5f8aaac"
    },
    {
      "cell_type": "code",
      "metadata": {
        "class": "student-code",
        "highlight": true
      },
      "source": [
        "#| echo: true\n",
        "#| eval: false\n"
      ],
      "id": "7d414501",
      "execution_count": null,
      "outputs": []
    },
    {
      "cell_type": "markdown",
      "metadata": {},
      "source": [
        "::: {.content-visible when-format=\"html\"}"
      ],
      "id": "19916712"
    },
    {
      "cell_type": "code",
      "metadata": {
        "class": "answer-code",
        "highlight": true
      },
      "source": [
        "#| echo: true\n",
        "#| eval: true\n",
        "#| code-fold: true\n",
        "#| code-summary: See our solution!\n",
        "hls_dir = os.path.join(data_dir, 'denver-july-hls')\n",
        "os.makedirs(hls_dir, exist_ok=True)\n",
        "\n",
        "ea_uris = earthaccess.open(denver_results, hls_dir)\n",
        "ea_uris"
      ],
      "id": "e3b90659",
      "execution_count": null,
      "outputs": []
    },
    {
      "cell_type": "markdown",
      "metadata": {},
      "source": [
        ":::\n",
        "\n",
        "## STEP 4a: Process data\n",
        "\n",
        "### Connect with Python\n",
        "\n",
        "::: {.callout-task title='Practice importing multispectral data'}\n",
        "We want to load in the Red and Near-infrared bands of the \n",
        "\n",
        "  1. **Find a green layer:** Check out the [HLSL30 User Guide](https://hls.gsfc.nasa.gov/wp-content/uploads/2019/01/HLS.v1.4.UserGuide_draft_ver3.1.pdf). Which layer is the green layer? What is its **index** in the list of files you got from `earthaccess`? Remember that Python starts counting at 0!\n",
        "  2. **Open the layer:** Open one of **green** layers you downloaded using the `rxr.open_rasterio()` function. You can do this by index if you like -- this code is for you to explore using the data. \n",
        "  3. **Remove extra dimensions:** Notice that there are **three** dimensions up at the top - `band`, `y`, and `x`. However, in this case, `band` is just set to `1`, rather than indicating which data layer we're looking at. To get rid of the `band` dimension, apply the `.squeeze()` method to your DataArray. Now, your DataArray should have dimensions `y` and `x` only (although `band` will still appear in the Coordinates). This will help you with plotting and other operations later on.\n",
        "  4. **Mask nodata values:** Now, plot your Data Array. Notice that many of the values are somewhere around -10000. We can guess, because it's common in datasets like this, that the value -9999 is used here as a \"no data\" value to mark where no measurement was taken. To encode the no data values correctly, add the parameter `masked=True` to the `rxr.open_rasterio()` function. Now, the image should be white where there's no data.\n",
        "\n",
        "You will want to use `masked=True` and `squeeze()` **whenever** you load raster data into Python from a `GeoTIFF` (usually .tif) file. It's rare for a `GeoTIFF` to actually have multiple layers, and also rare that we do not want to parse nodata values in a properly formatted `GeoTIFF`.\n",
        ":::\n"
      ],
      "id": "159073ad"
    },
    {
      "cell_type": "code",
      "metadata": {
        "class": "student-code",
        "highlight": true
      },
      "source": [
        "#| echo: true\n",
        "#| eval: false\n",
        "# Import one tile of green data"
      ],
      "id": "46ffb972",
      "execution_count": null,
      "outputs": []
    },
    {
      "cell_type": "markdown",
      "metadata": {},
      "source": [
        "::: {.content-visible when-format=\"html\"}"
      ],
      "id": "daf71f48"
    },
    {
      "cell_type": "code",
      "metadata": {
        "class": "answer-code",
        "highlight": true
      },
      "source": [
        "#| echo: true\n",
        "#| eval: true\n",
        "#| code-fold: true\n",
        "#| code-summary: See our solution!\n",
        "green_da = rxr.open_rasterio(ea_uris[8], masked=True).squeeze()\n",
        "green_da.plot(cmap='Greens')"
      ],
      "id": "2b5da016",
      "execution_count": null,
      "outputs": []
    },
    {
      "cell_type": "markdown",
      "metadata": {},
      "source": [
        ":::\n",
        "\n",
        "\n",
        "### Crop\n",
        "\n",
        "In this example, our study area vector data and our raster multispectral reflectance data come in different **Coordinate Reference System**s (CRSs). In this example, we are converting the vector data to be in the same CRS as the raster data.\n",
        "\n",
        "::: {.callout-respond title='Why convert vector data?'}\n",
        "You're being asked to convert vector data to the raster CRS instead of the other way around for two specific reasons. Why do you think this is important?\n",
        ":::\n",
        "\n",
        "::: {.callout-task title='Get your study bounds'}\n",
        "\n",
        "  1. Access the CRS of the redlining data (`.crs`) and the reflectance data (`.rio.crs`) to verify that they are not the same\n",
        "  2. Convert the redlining `GeoDataFrame` to the same CRS as the reflectance data.\n",
        "  3. Get the `.total_bounds` of the redlining data so you can crop to it.\n",
        ":::\n"
      ],
      "id": "9fc5d9c5"
    },
    {
      "cell_type": "code",
      "metadata": {
        "class": "student-code",
        "highlight": true
      },
      "source": [
        "#| echo: true\n",
        "#| eval: false\n",
        "# Get the study bounds"
      ],
      "id": "40e90c3b",
      "execution_count": null,
      "outputs": []
    },
    {
      "cell_type": "markdown",
      "metadata": {},
      "source": [
        "::: {.content-visible when-format=\"html\"}"
      ],
      "id": "60d4de57"
    },
    {
      "cell_type": "code",
      "metadata": {
        "class": "answer-code",
        "highlight": true
      },
      "source": [
        "#| echo: true\n",
        "#| eval: true\n",
        "#| code-fold: true\n",
        "#| code-summary: See our solution!\n",
        "denver_bounds = (\n",
        "    denver_redlining_gdf\n",
        "    .to_crs(green_da.rio.crs)\n",
        "    .total_bounds\n",
        ")\n",
        "denver_bounds"
      ],
      "id": "9599adcb",
      "execution_count": null,
      "outputs": []
    },
    {
      "cell_type": "markdown",
      "metadata": {},
      "source": [
        ":::\n",
        "\n",
        "::: {.callout-task title='Crop raster data'}\n",
        "\n",
        "To crop your data, use the method `.rio.clip_box(*your_bounds_here)`.\n",
        "\n",
        "The asterisk **unpacks** the bounds so that they go in as four separate arguments instead of a single tuple.\n",
        ":::\n"
      ],
      "id": "ab312a25"
    },
    {
      "cell_type": "code",
      "metadata": {
        "class": "student-code",
        "highlight": true
      },
      "source": [
        "#| echo: true\n",
        "#| eval: false\n",
        "# Crop the green reflectance data"
      ],
      "id": "ede2295f",
      "execution_count": null,
      "outputs": []
    },
    {
      "cell_type": "markdown",
      "metadata": {},
      "source": [
        "::: {.content-visible when-format=\"html\"}"
      ],
      "id": "071d37e4"
    },
    {
      "cell_type": "code",
      "metadata": {
        "class": "answer-code",
        "highlight": true
      },
      "source": [
        "#| echo: true\n",
        "#| eval: true\n",
        "#| code-fold: true\n",
        "#| code-summary: See our solution!\n",
        "green_cropped_da = green_da.rio.clip_box(*denver_bounds)\n",
        "green_cropped_da.plot(cmap='Greens')"
      ],
      "id": "b84b3b9e",
      "execution_count": null,
      "outputs": []
    },
    {
      "cell_type": "markdown",
      "metadata": {},
      "source": [
        ":::\n",
        "\n",
        "### Cloud mask\n",
        "\n",
        "In your original image, you may have noticed some bright spots right next to dark spots on the image. These are clouds and cloud shadows. Ideally, we don't want to include either clouds or the shadows in our image! Luckily, our data comes with a cloud mask file, labeled as the `Fmask` band.\n",
        "\n",
        "::: {.callout-task title='Take a look at the cloud mask'}\n",
        "\n",
        ":::\n"
      ],
      "id": "d99750d6"
    },
    {
      "cell_type": "code",
      "metadata": {
        "class": "student-code",
        "highlight": true
      },
      "source": [
        "#| echo: true\n",
        "#| eval: false\n"
      ],
      "id": "0fe10f2e",
      "execution_count": null,
      "outputs": []
    },
    {
      "cell_type": "markdown",
      "metadata": {},
      "source": [
        "::: {.content-visible when-format=\"html\"}"
      ],
      "id": "2e8b6854"
    },
    {
      "cell_type": "code",
      "metadata": {
        "class": "answer-code",
        "highlight": true
      },
      "source": [
        "#| echo: true\n",
        "#| eval: true\n",
        "#| code-fold: true\n",
        "#| code-summary: See our solution!\n",
        "cloud_da = rxr.open_rasterio(ea_uris[14], masked=True).squeeze()\n",
        "cloud_da = cloud_da.rio.clip_box(*denver_bounds)\n",
        "cloud_da.plot()"
      ],
      "id": "6d1061b6",
      "execution_count": null,
      "outputs": []
    },
    {
      "cell_type": "markdown",
      "metadata": {},
      "source": [
        ":::\n",
        "\n",
        "\n",
        "Notice that your Fmask layer seems to range from 0 to somewhere in the mid-200s. Our cloud mask actually comes as 8-bit **binary** numbers, where each **bit** represents a different category of pixel we might want to mask out.\n",
        "\n",
        "::: {.callout-task title='Process the Fmask'}\n",
        "\n",
        "  1. Use the sample code below to **unpack** the cloud mask data. Using `bitorder='little'` means that the bit indices will match the Fmask categories in the User Guide, and `axis=-1` creates a new dimension for the bits so that now our array is `x`x`y`x8. \n",
        "  2. Look up the bits to mask in the User Guide. You should mask clouds, adjacent to clouds, and cloud shadow, as well as water (because water may confuse our greenspace analogy)\n",
        ":::\n"
      ],
      "id": "a72621f4"
    },
    {
      "cell_type": "code",
      "metadata": {
        "class": "student-code",
        "highlight": true
      },
      "source": [
        "#| echo: true\n",
        "#| eval: false\n",
        "cloud_bits = (\n",
        "    np.unpackbits(\n",
        "        (\n",
        "            # Get the cloud mask as an array...\n",
        "            cloud_da.values\n",
        "            # ... of 8-bit integers\n",
        "            .astype('uint8')\n",
        "            # With an extra axis to unpack the bits into\n",
        "            [:, :, np.newaxis]\n",
        "        ), \n",
        "        # List the least significat bit first to match the user guide\n",
        "        bitorder='little',\n",
        "        # Expand the array in a new dimension\n",
        "        axis=-1)\n",
        ")\n",
        "\n",
        "bits_to_mask = [\n",
        "    , # Cloud\n",
        "    , # Adjacent to cloud\n",
        "    , # Cloud shadow\n",
        "    ] # Water\n",
        "cloud_mask = np.sum(\n",
        "    # Select bits 1, 2, and 3\n",
        "    cloud_bits[:,:,bits_to_mask], \n",
        "    # Sum along the bit axis\n",
        "    axis=-1\n",
        "# Check if any of bits 1, 2, or 3 are true\n",
        ") == 0\n",
        "\n",
        "cloud_mask"
      ],
      "id": "554d95ab",
      "execution_count": null,
      "outputs": []
    },
    {
      "cell_type": "markdown",
      "metadata": {},
      "source": [
        "::: {.content-visible when-format=\"html\"}"
      ],
      "id": "74c32080"
    },
    {
      "cell_type": "code",
      "metadata": {
        "class": "answer-code",
        "highlight": true
      },
      "source": [
        "#| echo: true\n",
        "#| eval: true\n",
        "#| code-fold: true\n",
        "#| code-summary: See our solution!\n",
        "cloud_bits = (\n",
        "    np.unpackbits(\n",
        "        (\n",
        "            # Get the cloud mask as an array...\n",
        "            cloud_da.values\n",
        "            # ... of 8-bit integers\n",
        "            .astype('uint8')\n",
        "            # With an extra axis to unpack the bits into\n",
        "            [:, :, np.newaxis]\n",
        "        ), \n",
        "        # List the least significat bit first to match the user guide\n",
        "        bitorder='little',\n",
        "        # Expand the array in a new dimension\n",
        "        axis=-1)\n",
        ")\n",
        "\n",
        "bits_to_mask = [\n",
        "    1, # Cloud\n",
        "    2, # Adjacent to cloud\n",
        "    3, # Cloud shadow\n",
        "    5] # Water\n",
        "cloud_mask = np.sum(\n",
        "    # Select bits 1, 2, and 3\n",
        "    cloud_bits[:,:,bits_to_mask], \n",
        "    # Sum along the bit axis\n",
        "    axis=-1\n",
        "# Check if any of bits 1, 2, or 3 are true\n",
        ") == 0\n",
        "cloud_mask"
      ],
      "id": "64df1a7f",
      "execution_count": null,
      "outputs": []
    },
    {
      "cell_type": "markdown",
      "metadata": {},
      "source": [
        ":::\n",
        "\n",
        "::: {.callout-task title='Apply the cloud mask'}\n",
        "\n",
        "  1. Use the `.where()` method to remove all the pixels you identified in the previous step from your green reflectance `DataArray`.\n",
        ":::\n"
      ],
      "id": "e85125df"
    },
    {
      "cell_type": "code",
      "metadata": {
        "class": "student-code",
        "highlight": true
      },
      "source": [
        "#| echo: true\n",
        "#| eval: false\n"
      ],
      "id": "0e0688c8",
      "execution_count": null,
      "outputs": []
    },
    {
      "cell_type": "markdown",
      "metadata": {},
      "source": [
        "::: {.content-visible when-format=\"html\"}"
      ],
      "id": "1a069a33"
    },
    {
      "cell_type": "code",
      "metadata": {
        "class": "answer-code",
        "highlight": true
      },
      "source": [
        "#| echo: true\n",
        "#| eval: true\n",
        "#| code-fold: true\n",
        "#| code-summary: See our solution!\n",
        "green_masked_da = green_cropped_da.where(cloud_mask)\n",
        "green_masked_da.plot(cmap='Greens', robust=True)"
      ],
      "id": "fdd0480d",
      "execution_count": null,
      "outputs": []
    },
    {
      "cell_type": "markdown",
      "metadata": {},
      "source": [
        ":::\n",
        "\n",
        "### Scale factor\n",
        "\n",
        "::: {.callout-task title=''}\n",
        "\n",
        "  1. Get the scale_factor for your green `DataArray`\n",
        "  2. Multiply by your masked array by the scale factor to get numbers ranging from 0 to 1\n",
        "  3. When you plot, set `vmin=0` (because that is the lowest reflectance value possible) and `robust=True` (to shrink the color scale and sharpen the image). Your NaN values where you masked should still be visible.\n",
        ":::\n"
      ],
      "id": "ed0cac50"
    },
    {
      "cell_type": "code",
      "metadata": {
        "class": "student-code",
        "highlight": true
      },
      "source": [
        "#| echo: true\n",
        "#| eval: false\n"
      ],
      "id": "3918463c",
      "execution_count": null,
      "outputs": []
    },
    {
      "cell_type": "markdown",
      "metadata": {},
      "source": [
        "::: {.content-visible when-format=\"html\"}"
      ],
      "id": "a97a4e07"
    },
    {
      "cell_type": "code",
      "metadata": {
        "class": "answer-code",
        "highlight": true
      },
      "source": [
        "#| echo: true\n",
        "#| eval: true\n",
        "#| code-fold: true\n",
        "#| code-summary: See our solution!\n",
        "# Multiply by the scale factor\n",
        "green_scaled_da = green_masked_da * green_masked_da.scale_factor\n",
        "green_scaled_da.plot(cmap='Greens', vmin=0, robust=True)"
      ],
      "id": "75f51014",
      "execution_count": null,
      "outputs": []
    },
    {
      "cell_type": "markdown",
      "metadata": {},
      "source": [
        ":::\n",
        "\n",
        "## STEP 4b: Putting it all together\n",
        "\n",
        "Whew -- we've processed some reflectance data! But you may have noticed that your image doesn't include all of Denver. To get a complete image, we will have to:\n",
        "\n",
        "  1. Load in all 4 rasters that cover Denver\n",
        "  2. Process them the same way as above\n",
        "  3. Merge, or mosaic, them into one image\n",
        "\n",
        "And...we haven't even talked about the other bands you might need, or what to do if you want a time-series of images. You can see that if we were to copy and paste all the code above for each raster we need to load, it could get pretty overwhelming, and *very* error-prone. This is the opposite of what we mean by **DRY** (Don't Repeat Yourself) code.\n",
        "\n",
        "Before we continue, we're going to make some functions to do the tasks you completed up above. When writing a function, we recommend the following process:\n",
        "\n",
        "  1. Set up the function syntax with your code inside, and a line of code that runs the function.\n",
        "  2. Identify any variables that are **too specific**. For example, if I called a `DataArray` `denver_da`, but I could use my function to process data from anywhere...I might change the name to `da` whereever it appears.\n",
        "  3. Identify the function **parameters** or **arguments**. What variables do you need to run the code in the function that you don't define within the function? Those should all be parameters.\n",
        "  4. Indentify the function **returns**. What do you want to be able to access at the end? Keep in mind that unless you return them, the variables you create in a function will be stuck there. Make sure to use the `return` statement at the end of your function to return the variables you want to keep.\n",
        "  5. Test your function, line by line if necessary, to check that your names work\n",
        "  6. Write your **docstring** in numpy style, specifying what your function does, what parameters it takes, and what values it returns.\n",
        "  7. Restart the kernel and run your function to check that doesn't have any hidden requirements.\n",
        "\n",
        "::: {.callout-task title=\"DRY code with functions\"}\n",
        "Take each processing step from above, and  create a function to do it. We recommend writing the following 2 functions:\n",
        "\n",
        "  1. A function to load a raster, crop it, and apply the scale factor\n",
        "  2. A function to process the cloud mask\n",
        "\n",
        "Applying the cloud mask is a single line of code, so we don't think it needs its own function.\n",
        "\n",
        "Make sure to test all your functions using your example from up top! \n",
        ":::\n"
      ],
      "id": "45a93e8d"
    },
    {
      "cell_type": "code",
      "metadata": {
        "class": "student-code",
        "highlight": true
      },
      "source": [
        "#| echo: true\n",
        "#| eval: false\n"
      ],
      "id": "880e9875",
      "execution_count": null,
      "outputs": []
    },
    {
      "cell_type": "markdown",
      "metadata": {},
      "source": [
        "::: {.content-visible when-format=\"html\"}"
      ],
      "id": "9a95f3af"
    },
    {
      "cell_type": "code",
      "metadata": {
        "class": "answer-code",
        "highlight": true
      },
      "source": [
        "#| echo: true\n",
        "#| eval: true\n",
        "#| code-fold: true\n",
        "#| code-summary: See our solution!\n",
        "def process_image(uri, bounds_gdf):\n",
        "    \"\"\"\n",
        "    Load, crop, and scale a raster image from earthaccess\n",
        "\n",
        "    Parameters\n",
        "    ----------\n",
        "    uri: file-like or path-like\n",
        "      File accessor downloaded or obtained from earthaccess\n",
        "    bounds_gdf: gpd.GeoDataFrame\n",
        "      Area of interest to crop to\n",
        "\n",
        "    Returns\n",
        "    -------\n",
        "    scaled_da: rxr.DataArray\n",
        "      Cropped and scaled raster\n",
        "    \"\"\"\n",
        "    da = rxr.open_rasterio(uri, masked=True).squeeze()\n",
        "    bounds = (\n",
        "        bounds_gdf\n",
        "        .to_crs(da.rio.crs)\n",
        "        .total_bounds\n",
        "    )\n",
        "    cropped_da = da.rio.clip_box(*bounds)\n",
        "    scaled_da = cropped_da * da.scale_factor\n",
        "    return scaled_da\n",
        "\n",
        "def process_cloud_mask(cloud_uri, bounds_gdf, bits_to_mask):\n",
        "    \"\"\"\n",
        "    Load an 8-bit Fmask file and process to a boolean mask\n",
        "\n",
        "    Parameters\n",
        "    ----------\n",
        "    uri: file-like or path-like\n",
        "      Fmask file accessor downloaded or obtained from earthaccess\n",
        "    bounds_gdf: gpd.GeoDataFrame\n",
        "      Area of interest to crop to\n",
        "    bits_to_mask: list of int\n",
        "      The indices of the bits to mask if set\n",
        "\n",
        "    Returns\n",
        "    -------\n",
        "    cloud_mask: np.array\n",
        "      Cloud mask\n",
        "    \"\"\"\n",
        "    cloud_da = process_image(cloud_uri, bounds_gdf)\n",
        "    bounds = (\n",
        "        bounds_gdf\n",
        "        .to_crs(cloud_da.rio.crs)\n",
        "        .total_bounds\n",
        "    )\n",
        "    cloud_bits = (\n",
        "        np.unpackbits(\n",
        "            (\n",
        "                # Get the cloud mask as an array...\n",
        "                cloud_da.values\n",
        "                # ... of 8-bit integers\n",
        "                .astype('uint8')\n",
        "                # With an extra axis to unpack the bits into\n",
        "                [:, :, np.newaxis]\n",
        "            ), \n",
        "            # List the least significat bit first to match the user guide\n",
        "            bitorder='little',\n",
        "            # Expand the array in a new dimension\n",
        "            axis=-1)\n",
        "    )\n",
        "    cloud_mask = np.sum(\n",
        "        # Select bits to mask\n",
        "        cloud_bits[:,:,bits_to_mask], \n",
        "        # Sum along the bit axis\n",
        "        axis=-1\n",
        "    # Check if any of the masked bits are true\n",
        "    ) == 0\n",
        "    return cloud_mask\n",
        "\n",
        "green_da = process_image(ea_uris[8], denver_redlining_gdf)\n",
        "\n",
        "bits_to_mask = [\n",
        "    1, # Cloud\n",
        "    2, # Adjacent to cloud\n",
        "    3, # Cloud shadow\n",
        "    5, # Water\n",
        "]\n",
        "cloud_mask = process_cloud_mask(\n",
        "    ea_uris[14], denver_redlining_gdf, bits_to_mask)\n",
        "green_masked_da = green_da.where(cloud_mask)\n",
        "green_masked_da.plot(cmap='Greens', vmin=0, robust=True)"
      ],
      "id": "24062e13",
      "execution_count": null,
      "outputs": []
    },
    {
      "cell_type": "markdown",
      "metadata": {},
      "source": [
        ":::\n",
        "\n",
        "\n",
        "Our next new tool to help you write DRY and correct code is the regular expression. Regular expressions are a little like the patterns we use with `glob` that contain wildcard characters (`*`) -- but, they are **much** more powerful. With regular expressions, we can extract different segments from a string (file name, in this case) based on landmarks -- even if those segments are not always the same length!\n",
        "\n",
        "::: {.callout-task title='Get metadata with **regular expressions**'}\n",
        "\n",
        "Using the code below as a starting point, extract metadata from file names and put them into a `DataFrame`. This strategy will help you later on because you will be able to group rasters by their metadata values, such as tile ID, band ID, and/or date.\n",
        "\n",
        "  1. Build your regular expression. ChatGPT is a great tool to get started with your regular expression. You can also check out [https://regex101.com/](https://regex101.com/) to test your regular expressions, making sure to select the `Python` regular expression engine.\n",
        "  2. Replace file_name with a **string** version of the URI. You can access it from the object you got from `earthaccess` through the `.full_name` attribute.\n",
        "  3. Add the URIs from `earthaccess` to the `DataFrame` you created as a new column. \n",
        ":::\n"
      ],
      "id": "90e7e8df"
    },
    {
      "cell_type": "code",
      "metadata": {
        "class": "student-code",
        "highlight": true
      },
      "source": [
        "#| echo: true\n",
        "#| eval: false\n",
        "# Compile a regular expression to search for metadata\n",
        "uri_re = re.compile(\n",
        "    ...\n",
        ")\n",
        "\n",
        "# Find all the metadata in the file name\n",
        "uri_groups = [\n",
        "    uri_re.search(file_name_to_search).groupdict()\n",
        "    for uri in ea_uris]\n",
        "\n",
        "# Create a DataFrame with the metadata\n",
        "raster_df = pd.DataFrame(uri_groups)\n",
        "\n",
        "# Add the File-like URI to the DataFrame\n",
        "\n",
        "# Check the results\n",
        "raster_df"
      ],
      "id": "abbede6c",
      "execution_count": null,
      "outputs": []
    },
    {
      "cell_type": "markdown",
      "metadata": {},
      "source": [
        "::: {.content-visible when-format=\"html\"}"
      ],
      "id": "6ca894e3"
    },
    {
      "cell_type": "code",
      "metadata": {
        "class": "answer-code",
        "highlight": true
      },
      "source": [
        "#| echo: true\n",
        "#| eval: true\n",
        "#| code-fold: true\n",
        "#| code-summary: See our solution!\n",
        "# Compile a regular expression to search for metadata\n",
        "uri_re = re.compile(\n",
        "    r'HLS.L30.(?P<tile_id>[^.]*)'\n",
        "    r'.(?P<date>\\d*)'\n",
        "    r'T\\d*.v2.0.'\n",
        "    r'(?P<band_id>[^.]*)'\n",
        "    r'.tif'\n",
        ")\n",
        "\n",
        "# Find all the metadata in the file name\n",
        "uri_groups = [\n",
        "    uri_re.search(uri.full_name).groupdict()\n",
        "    for uri in ea_uris]\n",
        "\n",
        "# Create a DataFrame with the metadata\n",
        "raster_df = pd.DataFrame(uri_groups)\n",
        "\n",
        "# Add the File-like URI to the DataFrame\n",
        "raster_df['uri'] = ea_uris\n",
        "\n",
        "# Check the results\n",
        "raster_df"
      ],
      "id": "dd08c2a6",
      "execution_count": null,
      "outputs": []
    },
    {
      "cell_type": "markdown",
      "metadata": {},
      "source": [
        ":::\n",
        "\n",
        "\n",
        "::: {.callout-task title='Crop data'}\n",
        "\n",
        ":::\n"
      ],
      "id": "5f9dbc16"
    },
    {
      "cell_type": "code",
      "metadata": {
        "class": "student-code",
        "highlight": true
      },
      "source": [
        "#| echo: true\n",
        "#| eval: false\n"
      ],
      "id": "ea3d0311",
      "execution_count": null,
      "outputs": []
    },
    {
      "cell_type": "markdown",
      "metadata": {},
      "source": [
        "::: {.content-visible when-format=\"html\"}"
      ],
      "id": "7631d42b"
    },
    {
      "cell_type": "code",
      "metadata": {
        "class": "answer-code",
        "highlight": true
      },
      "source": [
        "#| echo: true\n",
        "#| eval: true\n",
        "#| code-fold: true\n",
        "#| code-summary: See our solution!\n",
        "bands = {\n",
        "    'B02': 'red',\n",
        "    'B03': 'green',\n",
        "    'B04': 'blue',\n",
        "    'B05': 'nir'\n",
        "}\n",
        "# Initialize structure for saving images\n",
        "denver_das = {band_name: [] for band_name in bands.values()}\n",
        "for tile_id, tile_df in raster_df.groupby('tile_id'):\n",
        "\n",
        "    # Load the cloud mask\n",
        "    cloud_mask = process_cloud_mask(\n",
        "        tile_df.loc[tile_df.band_id=='Fmask', 'uri'].values[0],\n",
        "        denver_redlining_gdf, \n",
        "        [1, 2, 3, 5])\n",
        "\n",
        "    for band_id, row in tile_df.groupby('band_id'):\n",
        "        if band_id in bands:\n",
        "            band_name = bands[band_id]\n",
        "            band_da = process_image(\n",
        "                row.uri.values[0], \n",
        "                denver_redlining_gdf)\n",
        "            band_masked_da = band_da.where(cloud_mask)\n",
        "            denver_das[band_name].append(band_masked_da)\n",
        "\n",
        "# Merge all tiles\n",
        "denver_das = {\n",
        "    band_name: merge_arrays(das) \n",
        "    for band_name, das \n",
        "    in denver_das.items()}\n",
        "\n",
        "denver_das['green'].plot(cmap='Greens', robust=True)"
      ],
      "id": "3e80a7ce",
      "execution_count": null,
      "outputs": []
    },
    {
      "cell_type": "markdown",
      "metadata": {},
      "source": [
        ":::\n",
        "\n",
        "::: {.callout-task title='Check your data'}\n",
        "\n",
        ":::\n"
      ],
      "id": "6ba41432"
    },
    {
      "cell_type": "code",
      "metadata": {
        "class": "student-code",
        "highlight": true
      },
      "source": [
        "#| echo: true\n",
        "#| eval: false\n"
      ],
      "id": "7dc99661",
      "execution_count": null,
      "outputs": []
    },
    {
      "cell_type": "markdown",
      "metadata": {},
      "source": [
        "::: {.content-visible when-format=\"html\"}"
      ],
      "id": "7f37040e"
    },
    {
      "cell_type": "code",
      "metadata": {
        "class": "answer-code",
        "highlight": true
      },
      "source": [
        "#| echo: true\n",
        "#| eval: true\n",
        "#| code-fold: true\n",
        "#| code-summary: See our solution!\n",
        "import matplotlib.pyplot as plt\n",
        "denver_das['green'].plot(cmap='Greens', vmin=0, robust=True)\n",
        "denver_redlining_gdf.to_crs(denver_das['green'].rio.crs).plot(\n",
        "    ax=plt.gca(),\n",
        "    edgecolor='black', color='none')"
      ],
      "id": "0e5263a2",
      "execution_count": null,
      "outputs": []
    },
    {
      "cell_type": "markdown",
      "metadata": {},
      "source": [
        ":::\n",
        "\n",
        "::: {.content-hidden}"
      ],
      "id": "558004fe"
    },
    {
      "cell_type": "code",
      "metadata": {},
      "source": [
        "#| eval: true\n",
        "import os\n",
        "import shutil\n",
        "import subprocess\n",
        "\n",
        "import requests\n",
        "\n",
        "try:\n",
        "    zip_path = \"redlining-foundations-data\"\n",
        "    to_zip_dir = os.path.join(hls_dir, zip_path)\n",
        "    for band_name, da in denver_das.items():\n",
        "        band_path = os.path.join(\n",
        "            to_zip_dir,\n",
        "            f'HLSL30.20230712.denver.{band_name}.tif'\n",
        "        )\n",
        "        da.rio.to_raster(band_path)\n",
        "    shutil.make_archive(zip_path, 'zip', to_zip_dir)\n",
        "    subprocess.run([\n",
        "        'gh', 'release', 'upload', 'data-release',\n",
        "        zip_path,\n",
        "        '--repo', 'cu-esiil-edu/esiil-learning-portal',\n",
        "        '--clobber'\n",
        "        ])\n",
        "except NameError:\n",
        "    print('Looks like the current version of data has already been uploaded.')"
      ],
      "id": "b0471408",
      "execution_count": null,
      "outputs": []
    },
    {
      "cell_type": "markdown",
      "metadata": {},
      "source": [
        ":::"
      ],
      "id": "c446d74a"
    }
  ],
  "metadata": {
    "kernelspec": {
      "name": "python3",
      "language": "python",
      "display_name": "Python 3 (ipykernel)"
    }
  },
  "nbformat": 4,
  "nbformat_minor": 5
}