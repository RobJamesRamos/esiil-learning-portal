{
  "cells": [
    {
      "cell_type": "markdown",
      "metadata": {},
      "source": [
        "# \n",
        "\n",
        "# Welcome to the ESIIL Learning Portal!\n",
        "\n",
        "Explore textbooks:\n",
        "\n",
        "-   [Introduction to Earth Data Science](foundations/index.html)\n",
        "-   [ESIIL Data Short Course](shortcourse/index.html)\n",
        "-   [ESIIL STARS Textbook](stars/index.html)\n",
        "\n",
        "Explore collaborative workshops:\n",
        "\n",
        "-   [Macrosystems Ecology for All (MEFA)](mefa/index.html)\n",
        "-   [Chicago Symposium](css/index.html)"
      ],
      "id": "8fbaf7cc-8e11-4f3b-afc8-9062a3967aa4"
    }
  ],
  "nbformat": 4,
  "nbformat_minor": 5,
  "metadata": {
    "kernelspec": {
      "display_name": "Python 3",
      "language": "python",
      "name": "python3"
    }
  }
}