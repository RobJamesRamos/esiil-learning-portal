{
  "cells": [
    {
      "cell_type": "markdown",
      "metadata": {},
      "source": [
        "# \n",
        "\n",
        "# Welcome to the ESIIL Learning Portal!\n",
        "\n",
        "Explore textbooks:\n",
        "\n",
        "-   [Introduction to Earth Data Science](foundations/index.html)\n",
        "-   [ESIIL Data Short Course](shortcourse/index.html)\n",
        "-   [ESIIL STARS Textbook](stars/index.html)\n",
        "\n",
        "Explore collaborative workshops:\n",
        "\n",
        "-   [Macrosystems Ecology for All (MEFA)](mefa/index.html)\n",
        "-   [Chicago Symposium](css/index.html)"
      ],
      "id": "12e47045-14f2-4821-8b6b-8eefe1316a1f"
    }
  ],
  "nbformat": 4,
  "nbformat_minor": 5,
  "metadata": {
    "kernelspec": {
      "display_name": "Python 3",
      "language": "python",
      "name": "python3"
    }
  }
}