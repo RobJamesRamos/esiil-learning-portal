{
  "cells": [
    {
      "cell_type": "markdown",
      "metadata": {},
      "source": [
        "# \n",
        "\n",
        "# Welcome to the ESIIL Learning Portal!\n",
        "\n",
        "Explore textbooks:\n",
        "\n",
        "-   [Introduction to Earth Data Science]()\n",
        "-   [ESIIL Data Short Course](shortcourse/index.html)\n",
        "-   [ESIIL STARS Textbook](stars/index.html)"
      ],
      "id": "f3d6c14d-e6ab-4149-bafd-447770e5ae40"
    }
  ],
  "nbformat": 4,
  "nbformat_minor": 5,
  "metadata": {
    "kernelspec": {
      "display_name": "Python 3",
      "language": "python",
      "name": "python3"
    }
  }
}