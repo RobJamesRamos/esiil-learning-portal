{
  "cells": [
    {
      "cell_type": "markdown",
      "metadata": {},
      "source": [
        "# \n",
        "\n",
        "# Welcome to the ESIIL Learning Portal!\n",
        "\n",
        "Explore textbooks:\n",
        "\n",
        "-   [Introduction to Earth Data Science](foundations/index.html)\n",
        "-   [ESIIL Data Short Course](shortcourse/index.html)\n",
        "-   [ESIIL STARS Textbook](stars/index.html)\n",
        "\n",
        "Explore collaborative workshops:\n",
        "\n",
        "-   [Macrosystems Ecology for All (MEFA)](mefa/index.html)\n",
        "-   [Chicago Symposium](css/index.html)"
      ],
      "id": "db957f1c-2506-444e-a36b-b1ca1069eb21"
    }
  ],
  "nbformat": 4,
  "nbformat_minor": 5,
  "metadata": {
    "kernelspec": {
      "display_name": "Python 3",
      "language": "python",
      "name": "python3"
    }
  }
}