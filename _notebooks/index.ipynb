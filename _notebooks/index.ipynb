{
  "cells": [
    {
      "cell_type": "markdown",
      "metadata": {},
      "source": [
        "# \n",
        "\n",
        "# Welcome to the ESIIL Learning Portal!\n",
        "\n",
        "Explore textbooks:\n",
        "\n",
        "-   [Introduction to Earth Data Science]()\n",
        "-   [ESIIL Data Short Course](shortcourse/index.html)\n",
        "-   [ESIIL STARS Textbook](stars/index.html)"
      ],
      "id": "57faaa1d-f0cf-44cc-bc97-b7a3e1a59e0b"
    }
  ],
  "nbformat": 4,
  "nbformat_minor": 5,
  "metadata": {
    "kernelspec": {
      "display_name": "Python 3",
      "language": "python",
      "name": "python3"
    }
  }
}