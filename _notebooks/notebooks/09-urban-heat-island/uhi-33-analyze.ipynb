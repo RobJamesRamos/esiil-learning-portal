{
  "cells": [
    {
      "cell_type": "markdown",
      "metadata": {},
      "source": [
        "# STEP 5: Analysis\n",
        "\n",
        "First things first – make sure to load the climate `DataFrame` you\n",
        "stored in the previous notebooks using Jupyter cell magic:"
      ],
      "id": "c85b92e4-3f7d-47c8-945e-d09b4daae63f"
    },
    {
      "cell_type": "code",
      "execution_count": 2,
      "metadata": {},
      "outputs": [],
      "source": [
        "# Load all stored variables\n",
        "%store -r"
      ],
      "id": "cf398915"
    },
    {
      "cell_type": "markdown",
      "metadata": {},
      "source": [
        "### Is it really cooler by the Lake?\n",
        "\n",
        "We might be able to make some claims based on the plot above but is\n",
        "there more we can say about the differences in temperature between\n",
        "O’Hare and Northerly Island last June? What other kinds of test might we\n",
        "be able to do on this data to help tell this story in more detail?\n",
        "\n",
        "#### More details coming soon!"
      ],
      "id": "5cd34040-86ac-458e-b932-07494492b548"
    }
  ],
  "nbformat": 4,
  "nbformat_minor": 5,
  "metadata": {
    "kernelspec": {
      "name": "python3",
      "display_name": "Python 3 (ipykernel)",
      "language": "python"
    },
    "language_info": {
      "name": "python",
      "codemirror_mode": {
        "name": "ipython",
        "version": "3"
      },
      "file_extension": ".py",
      "mimetype": "text/x-python",
      "nbconvert_exporter": "python",
      "pygments_lexer": "ipython3",
      "version": "3.10.14"
    }
  }
}