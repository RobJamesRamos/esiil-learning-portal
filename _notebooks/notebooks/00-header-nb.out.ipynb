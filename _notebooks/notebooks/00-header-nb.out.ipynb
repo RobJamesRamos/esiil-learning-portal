{
  "cells": [
    {
      "cell_type": "markdown",
      "metadata": {},
      "source": [
        "#"
      ],
      "id": "23debfbb-4d3d-47e0-b3ce-4e16ec9b7dda"
    },
    {
      "cell_type": "raw",
      "metadata": {
        "raw_mimetype": "text/html"
      },
      "source": [
        "<div>"
      ],
      "id": "fcb46f09-018f-4aac-8cb5-06ab604e8b40"
    },
    {
      "cell_type": "markdown",
      "metadata": {},
      "source": [
        "<img style=\"float: left; padding-right: 3em;\" src=\"https://pbs.twimg.com/profile_images/1537109064093532160/mG03dW9G_400x400.jpg\" width=\"150\" />"
      ],
      "id": "0d27ae5e-eadb-4d3f-bd7d-a59ca1ea7db8"
    },
    {
      "cell_type": "raw",
      "metadata": {
        "raw_mimetype": "text/html"
      },
      "source": [
        "<div/>\n"
      ],
      "id": "ed97721e-621f-4b0a-aca0-ebe85fae96b8"
    },
    {
      "cell_type": "markdown",
      "metadata": {},
      "source": [
        "# It’s another STARS 2023 Earth Data Science Workflow!\n",
        "\n",
        "This notebook contains your next earth data science coding challenge!\n",
        "Before we get started, make sure to read or review the guidelines below.\n",
        "These will help make sure that your code is readable and reproducible.\n",
        "\n",
        "## Don’t get **caught** by these Jupyter notebook gotchas\n",
        "\n",
        "<img src=\"https://miro.medium.com/v2/resize:fit:4800/format:webp/1*o0HleR7BSe8W-pTnmucqHA.jpeg\" height=300 style=\"padding: 1em; border-style: solid; border-color: grey;\" />\n",
        "\n",
        "> *Image source:\n",
        "> https://alaskausfws.medium.com/whats-big-and-brown-and-loves-salmon-e1803579ee36*\n",
        "\n",
        "These are the most common issues that will keep you from getting started\n",
        "and delay your code review:\n",
        "\n",
        "1.  When you try to run some code, you may be prompted to select a\n",
        "    **kernel**.\n",
        "    -   The **kernel** refers to the version of Python you are using\n",
        "    -   You should use the **base** kernel, which should be the default\n",
        "        option.\n",
        "    -   You can also use the `Select Kernel` menu in the upper right to\n",
        "        select the **base** kernel\n",
        "2.  Before you commit your work, make sure it runs **reproducibly** by\n",
        "    clicking:\n",
        "    1.  `Restart` (this button won’t appear until you’ve run some code),\n",
        "        then\n",
        "    2.  `Run All`\n",
        "\n",
        "## Check your code to make sure it’s clean and easy to read\n",
        "\n",
        "<img src=\"https://encrypted-tbn0.gstatic.com/images?q=tbn:ANd9GcSO1w9WrbwbuMLN14IezH-iq2HEGwO3JDvmo5Y_hQIy7k-Xo2gZH-mP2GUIG6RFWL04X1k&usqp=CAU\" height=200 />\n",
        "\n",
        "-   Format all cells prior to submitting (right click on your code).\n",
        "\n",
        "-   Use expressive names for variables so you or the reader knows what\n",
        "    they are.\n",
        "\n",
        "-   Use comments to explain your code – e.g. \n",
        "\n",
        "    ``` python\n",
        "    # This is a comment, it starts with a hash sign\n",
        "    ```\n",
        "\n",
        "## Label and describe your plots\n",
        "\n",
        "<figure>\n",
        "<img src=\"https://imgs.xkcd.com/comics/convincing.png\"\n",
        "alt=\"Source: https://xkcd.com/833\" />\n",
        "<figcaption aria-hidden=\"true\">Source: https://xkcd.com/833</figcaption>\n",
        "</figure>\n",
        "\n",
        "Make sure each plot has: \\* A title that explains where and when the\n",
        "data are from \\* x- and y- axis labels with **units** where appropriate\n",
        "\\* A legend where appropriate\n",
        "\n",
        "## Icons: how to use this notebook\n",
        "\n",
        "We use the following icons to let you know when you need to change\n",
        "something to complete the challenge: \\* 💻 means you need to write or\n",
        "edit some code.\n",
        "\n",
        "-   📖 indicates recommended reading\n",
        "\n",
        "-   ✎ marks written responses to questions\n",
        "\n",
        "-   🌶 is an optional extra challenge\n",
        "\n",
        "------------------------------------------------------------------------"
      ],
      "id": "3d1e8581-5da3-4055-b76b-7d0fbb70d623"
    }
  ],
  "nbformat": 4,
  "nbformat_minor": 5,
  "metadata": {
    "kernelspec": {
      "name": "python3",
      "display_name": "Python 3 (ipykernel)",
      "language": "python"
    },
    "language_info": {
      "name": "python",
      "codemirror_mode": {
        "name": "ipython",
        "version": "3"
      },
      "file_extension": ".py",
      "mimetype": "text/x-python",
      "nbconvert_exporter": "python",
      "pygments_lexer": "ipython3",
      "version": "3.8.16"
    },
    "toc": {
      "base_numbering": "1",
      "nav_menu": {},
      "number_sections": true,
      "sideBar": true,
      "skip_h1_title": true,
      "title_cell": "Table of Contents",
      "title_sidebar": "Contents",
      "toc_cell": false,
      "toc_position": {},
      "toc_section_display": true,
      "toc_window_display": false
    },
    "varInspector": {
      "cols": {
        "lenName": "16",
        "lenType": "16",
        "lenVar": "40"
      },
      "kernels_config": {
        "python": {
          "delete_cmd_postfix": "",
          "delete_cmd_prefix": "del",
          "library": "var_list.py",
          "varRefreshCmd": "print(var_dic_list())"
        },
        "r": {
          "delete_cmd_postfix": ")",
          "delete_cmd_prefix": "rm(",
          "library": "var_list.r",
          "varRefreshCmd": "cat(var_dic_list())"
        }
      },
      "types_to_exclude": [
        "module",
        "function",
        "builtin_function_or_method",
        "instance",
        "_Feature"
      ],
      "window_display": false
    }
  }
}