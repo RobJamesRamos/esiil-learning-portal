{
  "cells": [
    {
      "cell_type": "markdown",
      "metadata": {},
      "source": [
        "# \n",
        "\n",
        "{ “cells”: \\[ { “cell_type”: “markdown”, “metadata”: {}, “source”: \\[\\]\n",
        "} \\], “metadata”: { “language_info”: { “name”: “python” } }, “nbformat”:\n",
        "4, “nbformat_minor”: 2 }"
      ],
      "id": "bcddf926-6344-4433-a274-606b55a879c1"
    }
  ],
  "nbformat": 4,
  "nbformat_minor": 5,
  "metadata": {
    "kernelspec": {
      "display_name": "Python 3",
      "language": "python",
      "name": "python3"
    }
  }
}