{
  "cells": [
    {
      "cell_type": "markdown",
      "metadata": {},
      "source": [
        "# Add a map to your website\n",
        "\n",
        "Get started with maps\n",
        "\n",
        "Nate Quarderer  \n",
        "Elsa Culler  \n",
        "2024-04-15\n",
        "\n",
        "## Get started with map-making using open-sources tools\n",
        "\n",
        "### Mapping libraries\n",
        "\n",
        "You’ll need to start by importing some libraries to have access to all\n",
        "the code you need.\n",
        "\n",
        "To run code in Codespaces, click on the play button in the upper left\n",
        "corner of the code you want to run. You may be asked to “Select a\n",
        "kernel”. If you press <kbd>Return</kbd> or click on `base` up at the\n",
        "top, that should select the default kernel."
      ],
      "id": "374a8c7a-f42b-40a2-8c5b-bf767927f823"
    },
    {
      "cell_type": "code",
      "execution_count": 2,
      "metadata": {},
      "outputs": [],
      "source": [
        "# Work with vector data\n",
        "import geopandas as gpd\n",
        "\n",
        "# Save maps and plots to files\n",
        "import holoviews as hv\n",
        "# Create interactive maps and plots\n",
        "import hvplot.pandas\n",
        "\n",
        "# Search for locations by name - this might take a moment\n",
        "from osmnx import features as osm"
      ],
      "id": "cd830589"
    },
    {
      "cell_type": "markdown",
      "metadata": {},
      "source": [
        "### Search for a point of interest\n",
        "\n",
        "You can use the `pyrosm` package to download and search for spatial\n",
        "vector data in your area, or anywhere around the world.\n",
        "\n",
        "In this case, we’re looking for the location of the United Tribes\n",
        "Technical College campus in North Dakota. The address in here,\n",
        "`'United Tribes Technical College, Bismarck, ND, United States'`, does\n",
        "not have to be complete or exact, but it should be specific enough to\n",
        "narrow it down. We are also specifying that we want it to be tagges as a\n",
        "`'amenity'` type, specifically a `'college'` You might have to try a\n",
        "couple different searches with different addresses and/or tags to get\n",
        "the address you want, just like if you are using a map website or app."
      ],
      "id": "94162067-de22-46b6-a875-3f3f436fe823"
    },
    {
      "cell_type": "code",
      "execution_count": 3,
      "metadata": {},
      "outputs": [],
      "source": [
        "# Search for United Tribes Technical College\n",
        "uttc_gdf = osm.features_from_address(\n",
        "    'United Tribes Technical College, Bismarck, ND, United States',\n",
        "    {'amenity': ['college']})\n",
        "uttc_gdf"
      ],
      "id": "c4a50a59"
    },
    {
      "cell_type": "code",
      "execution_count": 4,
      "metadata": {},
      "outputs": [],
      "source": [
        "uttc_gdf.plot()"
      ],
      "id": "8aa08622"
    },
    {
      "cell_type": "markdown",
      "metadata": {},
      "source": [
        "We have a map of the UTTC Campus!\n",
        "\n",
        "> **Warning**\n",
        ">\n",
        "> The Open Street Maps (OSM) database is not always complete. For\n",
        "> example, try searching for UTTC with the `{'building': True}`, and\n",
        "> compare it to the [map of the UTTC campus on their\n",
        "> website](https://uttc.edu/wp-content/uploads/2022/12/CAMPUS-MAP-2022-23.pdf).\n",
        "> What do you notice?\n",
        "\n",
        "### Create an interactive map\n",
        "\n",
        "There are lots of different ways to create maps and plots in Python.\n",
        "Here, we’re going to use a tool called `'hvplot'` and `'geoviews'` to\n",
        "create an interactive map, including the online `'EsriImagery'` tile\n",
        "source basemap."
      ],
      "id": "3e25ac6d-a99e-4f5d-b406-e0581916ec51"
    },
    {
      "cell_type": "code",
      "execution_count": 5,
      "metadata": {},
      "outputs": [],
      "source": [
        "# Plot UTTC boundary\n",
        "uttc_map = uttc_gdf.reset_index().hvplot(\n",
        "    # Givethe map a descriptive title\n",
        "    title=\"United Tribes Technical College, Bismarck, ND\",\n",
        "    # Add a basemap\n",
        "    geo=True, tiles='EsriImagery',\n",
        "    # Change the colors\n",
        "    fill_color='white', fill_alpha=0.2,\n",
        "    line_color='skyblue', line_width=5,\n",
        "    # Change the image size\n",
        "    frame_width=400, frame_height=400)\n",
        "\n",
        "# Save the map as a file to put on the web\n",
        "hv.save(uttc_map, 'uttc.html')\n",
        "\n",
        "# Display the map\n",
        "uttc_map"
      ],
      "id": "8176d4d3"
    },
    {
      "cell_type": "markdown",
      "metadata": {},
      "source": [
        "### Download your map from Codespaces\n",
        "\n",
        "If you are doing this activity on GitHub Codespaces, you will need to\n",
        "download the map you created:\n",
        "\n",
        "1.  Open the `Folders` tab on the left hand side\n",
        "2.  Right-click on `uttc.html` (or whatever you named your file)\n",
        "3.  Select `Download...`\n",
        "\n",
        "This should download your map.\n",
        "\n",
        "::: {.content-hidden when-profile=“nb”}\n",
        "\n",
        "### Place your map in your webpage\n",
        "\n",
        "You are now ready to upload your map to your portfolio repository and\n",
        "place it in your webpage. Because it is HTML and not an image, you will\n",
        "need to use the following HTML to get it on your page:\n",
        "\n",
        "``` markdown\n",
        "<embed type=\"text/html\" src=\"uttc.html\" width=\"600\" height=\"600\">\n",
        "```"
      ],
      "id": "2909cb9f-08f4-44a8-ad86-a802f538526b"
    },
    {
      "cell_type": "raw",
      "metadata": {
        "raw_mimetype": "text/html"
      },
      "source": [
        "<embed type=\"text/html\" src=\"uttc.html\" width=\"600\" height=\"600\">"
      ],
      "id": "2e91262d-d785-4794-9b52-22c859deaff3"
    },
    {
      "cell_type": "markdown",
      "metadata": {},
      "source": [
        "> **Important**\n",
        ">\n",
        "> Make sure to make the `width` and `height` of your `embed` element\n",
        "> larger than the `frame_width` and `frame_height` of your plot, or it\n",
        "> will get cut off!\n",
        "\n",
        ":::"
      ],
      "id": "8f12ced5-91f2-4bee-90fa-246c748184dd"
    }
  ],
  "nbformat": 4,
  "nbformat_minor": 5,
  "metadata": {
    "kernelspec": {
      "name": "python3",
      "display_name": "Python 3 (ipykernel)",
      "language": "python"
    },
    "language_info": {
      "name": "python",
      "codemirror_mode": {
        "name": "ipython",
        "version": "3"
      },
      "file_extension": ".py",
      "mimetype": "text/x-python",
      "nbconvert_exporter": "python",
      "pygments_lexer": "ipython3",
      "version": "3.10.14"
    }
  }
}