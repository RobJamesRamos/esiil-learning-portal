{
  "cells": [
    {
      "cell_type": "markdown",
      "metadata": {},
      "source": [
        "# Add a map to your website\n",
        "\n",
        "Get started with maps\n",
        "\n",
        "Nate Quarderer  \n",
        "Elsa Culler  \n",
        "2024-04-30\n",
        "\n",
        "## Get started with map-making using open-sources tools\n",
        "\n",
        "### About Spatial Vector Data\n",
        "\n",
        "Vector data are composed of discrete geometric locations (x and y\n",
        "values, or latitude and longitude) that define the “shape” of the\n",
        "spatial object. The organization of the vertices determines the type of\n",
        "vector that you are working with. There are three fundamental types of\n",
        "vector data:\n",
        "\n",
        "**Points:** Each individual point is defined by a single x, y\n",
        "coordinate. Examples of point data include: sampling locations, the\n",
        "location of individual trees or the location of plots.\n",
        "\n",
        "**Lines:** Lines are composed of many (at least 2) vertices, or points,\n",
        "that are connected. For instance, a road or a stream may be represented\n",
        "by a line. This line is composed of a series of segments, each bend in\n",
        "the road or stream represents a vertex that has defined x, y location.\n",
        "\n",
        "**Polygons:** A polygon consists of 3 or more vertices that are\n",
        "connected and closed. Thus, the outlines of plot boundaries, lakes,\n",
        "oceans, and states or countries are often represented by polygons.\n",
        "\n",
        "<figure>\n",
        "<img\n",
        "src=\"https://www.earthdatascience.org/images/earth-analytics/spatial-data/points-lines-polygons-vector-data-types.png\"\n",
        "alt=\"There are three types of vector data – point, line, and polygon\" />\n",
        "<figcaption aria-hidden=\"true\">There are three types of vector data –\n",
        "point, line, and polygon</figcaption>\n",
        "</figure>\n",
        "\n",
        "> **Tip**\n",
        ">\n",
        "> Read more about working with spatial data using Python in our Intro to\n",
        "> Earth Data Science,\n",
        "> [here](https://www.earthdatascience.org/courses/intro-to-earth-data-science/file-formats/use-spatial-data/use-vector-data/).\n",
        "\n",
        "### Mapping libraries\n",
        "\n",
        "You’ll need to start by importing some libraries to have access to all\n",
        "the code you need.\n",
        "\n",
        "To run code in Codespaces, click on the play button in the upper left\n",
        "corner of the code you want to run. You may be asked to “Select a\n",
        "kernel”. If you press <kbd>Return</kbd> or click on `base` up at the\n",
        "top, that should select the default kernel."
      ],
      "id": "7a3370c5-c53e-48c0-8cbc-6a6fe5580f77"
    },
    {
      "cell_type": "code",
      "execution_count": 2,
      "metadata": {},
      "outputs": [],
      "source": [
        "# Work with vector data\n",
        "import geopandas as gpd\n",
        "\n",
        "# Save maps and plots to files\n",
        "import holoviews as hv\n",
        "# Create interactive maps and plots\n",
        "import hvplot.pandas\n",
        "\n",
        "# Search for locations by name - this might take a moment\n",
        "from osmnx import features as osm"
      ],
      "id": "27c1d02c"
    },
    {
      "cell_type": "markdown",
      "metadata": {},
      "source": [
        "### Search for a point of interest\n",
        "\n",
        "You can use the `osmnx` package to download and search for spatial\n",
        "vector data in your area, or anywhere around the world.\n",
        "\n",
        "In this case, we’re looking for the location of the United Tribes\n",
        "Technical College campus in North Dakota. The address in here,\n",
        "`'United Tribes Technical College, Bismarck, ND, United States'`, does\n",
        "not have to be complete or exact, but it should be specific enough to\n",
        "narrow it down.\n",
        "\n",
        "> **Tip**\n",
        ">\n",
        "> You can use the [Open Street Maps](https://www.openstreetmap.org/)\n",
        "> website to fine-tune your address before you copy it into your code.\n",
        "\n",
        "We are also specifying that we want it to be tagged as a\n",
        "`'college' type of`‘amenity’\\` type. You might have to try a couple\n",
        "different searches with different addresses and/or tags to get the\n",
        "address you want, just like if you are using a map website or app.\n",
        "\n",
        "> **Tip**\n",
        ">\n",
        "> Check out the [list of all the different amenity types available on\n",
        "> Open Street Maps](https://wiki.openstreetmap.org/wiki/Key:amenity)!\n",
        "> Different amenity types might be different types of vector data, such\n",
        "> as a **point** location or a building footprint **polygon**."
      ],
      "id": "f83b796a-4b79-4d72-84fe-fed1009a985e"
    },
    {
      "cell_type": "code",
      "execution_count": 3,
      "metadata": {},
      "outputs": [],
      "source": [
        "# Search for United Tribes Technical College\n",
        "uttc_gdf = osm.features_from_address(\n",
        "    'United Tribes Technical College, Bismarck, ND, United States',\n",
        "    {'amenity': ['college']})\n",
        "uttc_gdf"
      ],
      "id": "2acadf09"
    },
    {
      "cell_type": "code",
      "execution_count": 4,
      "metadata": {},
      "outputs": [],
      "source": [
        "uttc_gdf.plot()"
      ],
      "id": "c484b443"
    },
    {
      "cell_type": "markdown",
      "metadata": {},
      "source": [
        "We have a map of the UTTC Campus!\n",
        "\n",
        "> **Warning**\n",
        ">\n",
        "> The Open Street Maps (OSM) database is not always complete. For\n",
        "> example, try searching for UTTC with the `{'building': True}`, and\n",
        "> compare it to the [map of the UTTC campus on their\n",
        "> website](https://uttc.edu/wp-content/uploads/2022/12/CAMPUS-MAP-2022-23.pdf).\n",
        "> What do you notice?\n",
        "\n",
        "### Create an interactive map\n",
        "\n",
        "There are lots of different ways to create maps and plots in Python.\n",
        "Here, we’re going to use a tool called `'hvplot'` and `'geoviews'` to\n",
        "create an interactive map, including the online `'EsriImagery'` tile\n",
        "source basemap."
      ],
      "id": "7646ef25-d4e5-4453-9cd7-2847802882fa"
    },
    {
      "cell_type": "code",
      "execution_count": 5,
      "metadata": {},
      "outputs": [],
      "source": [
        "# Plot UTTC boundary\n",
        "uttc_map = uttc_gdf.hvplot(\n",
        "    # Givethe map a descriptive title\n",
        "    title=\"United Tribes Technical College, Bismarck, ND\",\n",
        "    # Add a basemap\n",
        "    geo=True, tiles='EsriImagery',\n",
        "    # Change the colors\n",
        "    fill_color='white', fill_alpha=0.2,\n",
        "    line_color='skyblue', line_width=5,\n",
        "    # Change the image size\n",
        "    frame_width=400, frame_height=400)\n",
        "\n",
        "# Save the map as a file to put on the web\n",
        "hv.save(uttc_map, 'uttc.html')\n",
        "\n",
        "# Display the map\n",
        "uttc_map"
      ],
      "id": "dee1036d"
    },
    {
      "cell_type": "markdown",
      "metadata": {},
      "source": [
        "### Download your map from Codespaces\n",
        "\n",
        "If you are doing this activity on GitHub Codespaces, you will need to\n",
        "download the map you created:\n",
        "\n",
        "1.  Open the `Folders` tab on the left hand side\n",
        "2.  Right-click on `uttc.html` (or whatever you named your file)\n",
        "3.  Select `Download...`\n",
        "\n",
        "This should download your map.\n",
        "\n",
        "::: {.content-hidden when-profile=“nb”}\n",
        "\n",
        "### Place your map in your webpage\n",
        "\n",
        "You are now ready to upload your map to your portfolio repository and\n",
        "place it in your webpage. Because it is HTML and not an image, you will\n",
        "need to use the following HTML to get it on your page:\n",
        "\n",
        "``` markdown\n",
        "<embed type=\"text/html\" src=\"uttc.html\" width=\"600\" height=\"600\">\n",
        "```"
      ],
      "id": "8e1fb67d-3626-4c61-8f1a-16be86f876ef"
    },
    {
      "cell_type": "raw",
      "metadata": {
        "raw_mimetype": "text/html"
      },
      "source": [
        "<embed type=\"text/html\" src=\"uttc.html\" width=\"600\" height=\"600\">"
      ],
      "id": "f2014cea-8e3e-47cd-8aca-ccf8bd876ad3"
    },
    {
      "cell_type": "markdown",
      "metadata": {},
      "source": [
        "> **Important**\n",
        ">\n",
        "> Make sure to make the `width` and `height` of your `embed` element\n",
        "> larger than the `frame_width` and `frame_height` of your plot, or it\n",
        "> will get cut off!\n",
        "\n",
        ":::"
      ],
      "id": "21e37115-3849-4905-b8a0-b234a95f2565"
    }
  ],
  "nbformat": 4,
  "nbformat_minor": 5,
  "metadata": {
    "kernelspec": {
      "name": "python3",
      "display_name": "Python 3 (ipykernel)",
      "language": "python"
    },
    "language_info": {
      "name": "python",
      "codemirror_mode": {
        "name": "ipython",
        "version": "3"
      },
      "file_extension": ".py",
      "mimetype": "text/x-python",
      "nbconvert_exporter": "python",
      "pygments_lexer": "ipython3",
      "version": "3.10.14"
    }
  }
}