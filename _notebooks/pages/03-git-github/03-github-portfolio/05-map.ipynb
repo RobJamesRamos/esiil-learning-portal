{
  "cells": [
    {
      "cell_type": "markdown",
      "metadata": {},
      "source": [
        "# Add a map to your website\n",
        "\n",
        "Get started with maps\n",
        "\n",
        "Nate Quarderer  \n",
        "Elsa Culler  \n",
        "2024-03-28\n",
        "\n",
        "## Get started with map-making using open-sources tools\n",
        "\n",
        "### Mapping libraries\n",
        "\n",
        "You’ll need to start by importing some libraries to have access to all\n",
        "the code you need.\n",
        "\n",
        "To run code in Codespaces, click on the play button in the upper left\n",
        "corner of the code you want to run. You may be asked to “Select a\n",
        "kernel”. If you press <kbd>Return</kbd> or click on `base` up at the\n",
        "top, that should select the default kernel."
      ],
      "id": "ff69a26d-4e6a-4fdf-b47e-be3185ce872f"
    },
    {
      "cell_type": "code",
      "execution_count": 2,
      "metadata": {},
      "outputs": [],
      "source": [
        "# Work with vector data\n",
        "import geopandas as gpd\n",
        "\n",
        "# Save maps and plots to files\n",
        "import holoviews as hv\n",
        "# Create interactive maps and plots\n",
        "import hvplot.pandas\n",
        "\n",
        "# Search for locations by name - this might take a moment\n",
        "from osmnx import features as osm"
      ],
      "id": "cd830589"
    },
    {
      "cell_type": "markdown",
      "metadata": {},
      "source": [
        "### Search for a point of interest\n",
        "\n",
        "You can use the `pyrosm` package to download and search for spatial\n",
        "vector data in your area, or anywhere around the world.\n",
        "\n",
        "In this case, we’re looking for the location of the United Tribes\n",
        "Technical College campus in North Dakota. The address in here,\n",
        "`'United Tribes Technical College, Bismarck, ND, United States'`, does\n",
        "not have to be complete or exact, but it should be specific enough to\n",
        "narrow it down. We are also specifying that we want it to be tagges as a\n",
        "`'amentity'` type, specifically a `'college'` You might have to try a\n",
        "couple different searches with different addresses and/or tags to get\n",
        "the address you want, just like if you are using a map website or app."
      ],
      "id": "9d8662d3-1e21-48af-957e-1f8338ef09a9"
    },
    {
      "cell_type": "code",
      "execution_count": 3,
      "metadata": {},
      "outputs": [],
      "source": [
        "# Search for United Tribes Technical College\n",
        "uttc_gdf = osm.features_from_address(\n",
        "    'United Tribes Technical College, Bismarck, ND, United States',\n",
        "    {'amenity': ['college']})\n",
        "uttc_gdf"
      ],
      "id": "c4a50a59"
    },
    {
      "cell_type": "code",
      "execution_count": 4,
      "metadata": {},
      "outputs": [],
      "source": [
        "uttc_gdf.plot()"
      ],
      "id": "8aa08622"
    },
    {
      "cell_type": "markdown",
      "metadata": {},
      "source": [
        "We have a map of the UTTC Campus!\n",
        "\n",
        "> **Warning**\n",
        ">\n",
        "> The Open Street Maps (OSM) database is not always complete. For\n",
        "> example, try searching for UTTC with the `{'building': True}`, and\n",
        "> compare it to the [map of the UTTC campus on their\n",
        "> website](https://uttc.edu/wp-content/uploads/2022/12/CAMPUS-MAP-2022-23.pdf).\n",
        "> What do you notice?\n",
        "\n",
        "### Create an interactive map\n",
        "\n",
        "There are lots of different ways to create maps and plots in Python.\n",
        "Here, we’re going to use a tool called `'hvplot'` and `'geoviews'` to\n",
        "create an interactive map, including the online `'EsriImagery'` tile\n",
        "source basemap."
      ],
      "id": "40e2b44c-e285-420d-9cec-525e09679e91"
    },
    {
      "cell_type": "code",
      "execution_count": 5,
      "metadata": {},
      "outputs": [],
      "source": [
        "# Plot UTTC boundary\n",
        "uttc_map = uttc_gdf.reset_index().hvplot(\n",
        "    # Givethe map a descriptive title\n",
        "    title=\"United Tribes Technical College, Bismarck, ND\",\n",
        "    # Add a basemap\n",
        "    geo=True, tiles='EsriImagery',\n",
        "    # Change the colors\n",
        "    fill_color='white', fill_alpha=0.2,\n",
        "    line_color='skyblue', line_width=5,\n",
        "    # Change the image size\n",
        "    frame_width=400, frame_height=400)\n",
        "\n",
        "# Save the map as a file to put on the web\n",
        "hv.save(uttc_map, 'uttc.html')\n",
        "\n",
        "# Display the map\n",
        "uttc_map"
      ],
      "id": "8176d4d3"
    },
    {
      "cell_type": "markdown",
      "metadata": {},
      "source": [
        "### Download your map from Codespaces\n",
        "\n",
        "If you are doing this activity on GitHub Codespaces, you will need to\n",
        "download the map you created:\n",
        "\n",
        "1.  Open the `Folders` tab on the left hand side\n",
        "2.  Right-click on `uttc.html` (or whatever you named your file)\n",
        "3.  Select `Download...`\n",
        "\n",
        "This should download your map."
      ],
      "id": "029ee552-b957-40c0-aeae-2a783e087524"
    }
  ],
  "nbformat": 4,
  "nbformat_minor": 5,
  "metadata": {
    "kernelspec": {
      "name": "python3",
      "display_name": "Python 3 (ipykernel)",
      "language": "python"
    },
    "language_info": {
      "name": "python",
      "codemirror_mode": {
        "name": "ipython",
        "version": "3"
      },
      "file_extension": ".py",
      "mimetype": "text/x-python",
      "nbconvert_exporter": "python",
      "pygments_lexer": "ipython3",
      "version": "3.10.14"
    }
  }
}