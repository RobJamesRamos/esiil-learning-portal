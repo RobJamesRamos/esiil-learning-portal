{
  "cells": [
    {
      "cell_type": "markdown",
      "metadata": {},
      "source": [
        "# What Is Version Control\n",
        "\n",
        "Max Joseph  \n",
        "Leah Wasser  \n",
        "Jenny Palomino  \n",
        "Martha Morrissey  \n",
        "2025-04-08\n",
        "\n",
        "## Git and GitHub.com\n",
        "\n",
        "In this chapter, you will learn about the benefits of version control\n",
        "for tracking and managing changes to your files. You will also learn how\n",
        "to implement version control using **git** and then upload changes to\n",
        "the cloud version of your files on **Github.com**.\n",
        "\n",
        "The text and graphics in the first three sections were borrowed, with\n",
        "some modifications, from Software Carpentry’s Version Control with\n",
        "**git** lessons.\n",
        "\n",
        "## What is Version Control?\n",
        "\n",
        "A version control system maintains a record of changes to code and other\n",
        "content. It also allows us to revert changes to a previous point in\n",
        "time."
      ],
      "id": "04915ccb-8212-47f3-9030-e6c3f9ec72aa"
    },
    {
      "cell_type": "raw",
      "metadata": {
        "raw_mimetype": "text/html"
      },
      "source": [
        "<figure>"
      ],
      "id": "0e89d63f-885d-448b-984c-aa901bdfaca9"
    },
    {
      "cell_type": "markdown",
      "metadata": {},
      "source": [
        "<a href=\"{{ site.url }}/images/earth-analytics/git-version-control/final-doc-phd-comics.gif\">\n",
        "<img src=\"{{ site.url }}/images/earth-analytics/git-version-control/final-doc-phd-comics.gif\" alt=\"Many of us have appended a date to a file name as a method of version control at some point in our lives. Source: Piled Higher and Deeper by Jorge Cham www.phdcomics.com.\"></a>"
      ],
      "id": "70d2edf3-4be6-4909-9f0c-347a8141c3a1"
    },
    {
      "cell_type": "raw",
      "metadata": {
        "raw_mimetype": "text/html"
      },
      "source": [
        "<figcaption>"
      ],
      "id": "5263fcd7-976a-4947-987b-94525e0677f4"
    },
    {
      "cell_type": "markdown",
      "metadata": {},
      "source": [
        "Many of us have used the “append a date” to a file name version of\n",
        "version control at some point in our lives. Source: “Piled Higher and\n",
        "Deeper” by\n",
        "<a href=\"http://phdcomics.com/comics/archive/phd101212s.gif\">Jorge Cham\n",
        "on www.phdcomics.com</a>."
      ],
      "id": "27380ea7-8fa3-41f4-b387-43bcfb1247c6"
    },
    {
      "cell_type": "raw",
      "metadata": {
        "raw_mimetype": "text/html"
      },
      "source": [
        "</figcaption>"
      ],
      "id": "1bb9357c-4af5-4ea7-aec8-98897c1c01f6"
    },
    {
      "cell_type": "raw",
      "metadata": {
        "raw_mimetype": "text/html"
      },
      "source": [
        "</figure>"
      ],
      "id": "17690bef-97b3-4902-ad2d-d5b93477414e"
    },
    {
      "cell_type": "markdown",
      "metadata": {},
      "source": [
        "## Types of Version control\n",
        "\n",
        "There are many forms of version control. Some not as good:\n",
        "\n",
        "-   Save a document with a new date or name (we’ve all done it, but it\n",
        "    isn’t efficient and easy to lose track of the latest file).\n",
        "-   Google Docs “history” function (not bad for some documents, but\n",
        "    limited in scope).\n",
        "\n",
        "Some better:\n",
        "\n",
        "-   Version control tools like Git, Mercurial, or Subversion.\n",
        "\n",
        "## Why Version Control is Important\n",
        "\n",
        "Version control facilitates two important aspects of many scientific\n",
        "workflows:\n",
        "\n",
        "1.  The ability to save and review or revert to previous versions.\n",
        "2.  The ability to collaborate on a single project.\n",
        "\n",
        "This means that you don’t have to worry about a collaborator (or your\n",
        "future self) overwriting something important. It also allows two people\n",
        "working on the same document to efficiently combine ideas and changes.\n",
        "\n",
        "<i class=\"fa fa-star\"></i>**Thought Questions**: Think of a specific\n",
        "time when you weren’t using version control that it would have been\n",
        "useful.\n",
        "\n",
        "1.  Why would version control have been helpful to your project and\n",
        "    workflow?\n",
        "2.  What were the consequences of not having a version control system in\n",
        "    place?\n",
        "\n",
        "## How Version Control Systems Works\n",
        "\n",
        "### Simple Version Control Model\n",
        "\n",
        "A version control system tracks what has changed in one or more files\n",
        "over time. Version control systems begin with a base version of a\n",
        "document. Then, they save the committed changes that you make.\n",
        "\n",
        "You can think of version control as a tape: if you rewind the tape and\n",
        "start at the base document, then you can play back each change and end\n",
        "up with your latest version."
      ],
      "id": "25186555-db24-4087-b3a5-32643242ef55"
    },
    {
      "cell_type": "raw",
      "metadata": {
        "raw_mimetype": "text/html"
      },
      "source": [
        "<figure>"
      ],
      "id": "65fcc4d0-df5f-4ce9-8c5d-d037d2eab696"
    },
    {
      "cell_type": "markdown",
      "metadata": {},
      "source": [
        "<a href=\"{{ site.url }}/images/earth-analytics/git-version-control/git-play-changes.png\">\n",
        "<img src=\"{{ site.url }}/images/earth-analytics/git-version-control/git-play-changes.png\" alt=\"A version control system saves changes to a document, sequentially as you add and commit them to the system. Source: Software Carpentry.\"></a>"
      ],
      "id": "b9897bec-59c6-4ef0-9ee4-4dba3f02470f"
    },
    {
      "cell_type": "raw",
      "metadata": {
        "raw_mimetype": "text/html"
      },
      "source": [
        "<figcaption>"
      ],
      "id": "66fecc9e-37f7-4405-975f-1ed4ac1dc101"
    },
    {
      "cell_type": "markdown",
      "metadata": {},
      "source": [
        "A version control system saves changes to a document, sequentially as\n",
        "you add and commit them to the system.\n",
        "<a href=\"http://swcarpentry.github.io/git-novice/fig/play-changes.svg\">Source:\n",
        "Software Carpentry</a>."
      ],
      "id": "5a890109-3c77-4bac-bb44-f6c4cd502a55"
    },
    {
      "cell_type": "raw",
      "metadata": {
        "raw_mimetype": "text/html"
      },
      "source": [
        "</figcaption>"
      ],
      "id": "fea5771e-dd21-49f1-8c93-56d60cb04cf7"
    },
    {
      "cell_type": "raw",
      "metadata": {
        "raw_mimetype": "text/html"
      },
      "source": [
        "</figure>"
      ],
      "id": "ffdc617b-3761-45f7-960b-fcb224e5f922"
    },
    {
      "cell_type": "markdown",
      "metadata": {},
      "source": [
        "Once you think of changes as separate from the document itself, you can\n",
        "then think about “playing back” different sets of changes onto the base\n",
        "document. You can then retrieve, or revert to, different versions of the\n",
        "document.\n",
        "\n",
        "Collaboration with version control allows users to make independent\n",
        "changes to the same document."
      ],
      "id": "5d17ca00-52fa-4c10-aa77-389ab89643b9"
    },
    {
      "cell_type": "raw",
      "metadata": {
        "raw_mimetype": "text/html"
      },
      "source": [
        "<figure>"
      ],
      "id": "0512abd8-6ad2-442f-ae32-1e6827a2f3a1"
    },
    {
      "cell_type": "markdown",
      "metadata": {},
      "source": [
        "<a href=\"{{ site.url }}/images/earth-analytics/git-version-control/git-versions.png\">\n",
        "<img src=\"{{ site.url }}/images/earth-analytics/git-version-control/git-versions.png\" alt=\"Different versions of the same document can be saved within a version control system. Source: Software Carpentry.\"></a>"
      ],
      "id": "61a2fa13-6fef-4120-85c8-27a8b6553660"
    },
    {
      "cell_type": "raw",
      "metadata": {
        "raw_mimetype": "text/html"
      },
      "source": [
        "<figcaption>"
      ],
      "id": "ccd5873f-1d09-46d7-b3a6-bcb400131c44"
    },
    {
      "cell_type": "markdown",
      "metadata": {},
      "source": [
        "Different versions of the same document can be saved within a version\n",
        "control system.\n",
        "<a href=\"http://swcarpentry.github.io/git-novice/fig/versions.svg\">Source:\n",
        "Software Carpentry</a>."
      ],
      "id": "f425361d-0a4c-4fd1-a8a0-e2136eaebfb8"
    },
    {
      "cell_type": "raw",
      "metadata": {
        "raw_mimetype": "text/html"
      },
      "source": [
        "</figcaption>"
      ],
      "id": "9a2a91b7-7c4a-42c0-af0f-5580689a7b5c"
    },
    {
      "cell_type": "raw",
      "metadata": {
        "raw_mimetype": "text/html"
      },
      "source": [
        "</figure>"
      ],
      "id": "804cfb59-d509-4f89-826e-c5473203c8c5"
    },
    {
      "cell_type": "markdown",
      "metadata": {},
      "source": [
        "If there aren’t conflicts between the users’ changes (a conflict is an\n",
        "area where both users modified the same part of the same document in\n",
        "different ways), you can review two sets of changes on the same base\n",
        "document. If there are conflicts, they can be resolved by choosing which\n",
        "change you want to keep."
      ],
      "id": "ad2dafbe-cdc7-47a2-8aa0-093bcd9e5fc7"
    },
    {
      "cell_type": "raw",
      "metadata": {
        "raw_mimetype": "text/html"
      },
      "source": [
        "<figure>"
      ],
      "id": "b4dd86f5-682c-4fd3-aeb2-c08045e061b2"
    },
    {
      "cell_type": "markdown",
      "metadata": {},
      "source": [
        "<a href=\"{{ site.url }}/images/earth-analytics/git-version-control/git-merge.png\">\n",
        "<img src=\"{{ site.url }}/images/earth-analytics/git-version-control/git-merge.png\" alt=\"Two sets of changes to the same base document can be merged together within a version control system if there are no conflicts (areas where both users modified the same part of the same document in different ways). If there are conflicts, they can resolved by choosing which change you want to keep. After conflicts are resolved, all other changes submitted by both users can then be merged together. Source: Software Carpentry.\"></a>"
      ],
      "id": "b70a0839-74e1-4a6d-8e82-ce0db107bf5c"
    },
    {
      "cell_type": "raw",
      "metadata": {
        "raw_mimetype": "text/html"
      },
      "source": [
        "<figcaption>"
      ],
      "id": "17442352-125b-4d25-bb21-e931c8441d18"
    },
    {
      "cell_type": "markdown",
      "metadata": {},
      "source": [
        "Two sets of changes to the same base document can be merged together\n",
        "within a version control system if there are no conflicts (areas where\n",
        "both users modified the same part of the same document in different\n",
        "ways). If there are conflicts, they can resolved by choosing which\n",
        "change you want to keep. After conflicts are resolved, all other changes\n",
        "submitted by both users can then be merged together.\n",
        "<a href=\"http://swcarpentry.github.io/git-novice/fig/merge.svg\">Source:\n",
        "Software Carpentry</a>."
      ],
      "id": "de187956-2df1-4a07-85f2-a035fb9bb6e8"
    },
    {
      "cell_type": "raw",
      "metadata": {
        "raw_mimetype": "text/html"
      },
      "source": [
        "</figcaption>"
      ],
      "id": "4fe4050c-46e0-435c-a4d1-0c3666ba4e90"
    },
    {
      "cell_type": "raw",
      "metadata": {
        "raw_mimetype": "text/html"
      },
      "source": [
        "</figure>"
      ],
      "id": "7a4cd9ec-1c0e-413d-852c-85896a752111"
    },
    {
      "cell_type": "markdown",
      "metadata": {},
      "source": [
        "A version control system is a tool that keeps track of all of these\n",
        "changes for us. Each version of a file can be viewed and reverted to at\n",
        "any time. That way if you add something that you end up not liking or\n",
        "delete something that you need, you can simply go back to a previous\n",
        "version.\n",
        "\n",
        "### Git and GitHub - A Distributed Version Control Model\n",
        "\n",
        "**Git** uses a distributed version control model. This means that there\n",
        "can be many copies (or forks/branches in **GitHub** world) of the\n",
        "repository. When working locally, **git** is the program that you will\n",
        "use to keep track of changes to your repository.\n",
        "\n",
        "**GitHub.com** is a location on the internet (a cloud web server) that\n",
        "acts as a remote location for your repository. **GitHub** provides a\n",
        "backup of your work that can be retrieved if your local copy is lost\n",
        "(e.g. if your computer falls off a pier). **GitHub** also allows you to\n",
        "share your work and collaborate with others on projects."
      ],
      "id": "bdb3f3e1-1a76-4118-88b1-7cfabf46a1d4"
    },
    {
      "cell_type": "raw",
      "metadata": {
        "raw_mimetype": "text/html"
      },
      "source": [
        "<figure>"
      ],
      "id": "48c0b479-420f-453b-919e-44581dad377b"
    },
    {
      "cell_type": "markdown",
      "metadata": {},
      "source": [
        "<a href=\"{{ site.url }}/images/earth-analytics/git-version-control/git-distributed-version-control-model.png\">\n",
        "<img src=\"{{ site.url }}/images/earth-analytics/git-version-control/git-distributed-version-control-model.png\" alt=\"One advantage of a distributed version control system is that there are many copies of the repository. Thus, if any one server or computer dies, any of the client repositories can be copied and used to restore the data! Source: Pro Git by Scott Chacon & Ben Straub. \"></a>"
      ],
      "id": "1b165797-ca7b-4dea-b2de-1d25f3341309"
    },
    {
      "cell_type": "raw",
      "metadata": {
        "raw_mimetype": "text/html"
      },
      "source": [
        "<figcaption>"
      ],
      "id": "12202c4f-89c5-42cd-90c7-faed230abae2"
    },
    {
      "cell_type": "markdown",
      "metadata": {},
      "source": [
        "One advantage of a distributed version control system is that there are\n",
        "many copies of the repository. Thus, if any one server or computer dies,\n",
        "any of the client repositories can be copied and used to restore the\n",
        "data!\n",
        "<a href=\"https://git-scm.com/book/en/v2/book/01-introduction/images/distributed.png\">Source:\n",
        "Pro Git by Scott Chacon and Ben Straub</a>."
      ],
      "id": "da0c601c-1671-4170-be43-1e7c47a052d0"
    },
    {
      "cell_type": "raw",
      "metadata": {
        "raw_mimetype": "text/html"
      },
      "source": [
        "</figcaption>"
      ],
      "id": "77fac588-0c24-492a-956d-47c8beb47339"
    },
    {
      "cell_type": "raw",
      "metadata": {
        "raw_mimetype": "text/html"
      },
      "source": [
        "</figure>"
      ],
      "id": "2af16439-f8ca-40a3-8712-4c17fae54208"
    },
    {
      "cell_type": "markdown",
      "metadata": {},
      "source": [
        "## How Git and GitHub Support Version Control\n",
        "\n",
        "Due to the functionality that each tool provides, you can use **git**\n",
        "and **GitHub** together in the same workflow to: \\* keep track of\n",
        "changes to your code locally using **git**. \\* synchronizing code\n",
        "between different versions (i.e. either your own versions or others’\n",
        "versions). \\* test changes to code without losing the original. \\*\n",
        "revert back to older version of code, if needed. \\* back-up your files\n",
        "on the cloud (**GitHub.com**). \\* share your files on **GitHub.com** and\n",
        "collaborate with others.\n",
        "\n",
        "Throughout this textbook, you will learn more about the functionality of\n",
        "**git** and **GitHub** for version control and collaboration to support\n",
        "open reproducible science."
      ],
      "id": "21ed3ff5-0f9f-4bfc-a832-8b7cb05806d9"
    }
  ],
  "nbformat": 4,
  "nbformat_minor": 5,
  "metadata": {
    "kernelspec": {
      "name": "python3",
      "display_name": "Python 3 (ipykernel)",
      "language": "python",
      "path": "/Users/elsa/miniconda3/envs/learning-portal/share/jupyter/kernels/python3"
    },
    "language_info": {
      "name": "python",
      "codemirror_mode": {
        "name": "ipython",
        "version": "3"
      },
      "file_extension": ".py",
      "mimetype": "text/x-python",
      "nbconvert_exporter": "python",
      "pygments_lexer": "ipython3",
      "version": "3.10.16"
    }
  }
}