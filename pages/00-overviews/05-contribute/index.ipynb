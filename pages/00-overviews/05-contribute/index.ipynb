{
  "cells": [
    {
      "cell_type": "markdown",
      "metadata": {},
      "source": [
        "# Lesson Submission Roadmap\n",
        "\n",
        "Contribute to the ESIIL Learning Portal\n",
        "\n",
        "Elsa Culler  \n",
        "2025-04-08"
      ],
      "id": "66925f5a-33ac-42ed-9163-eaa91fd5404e"
    }
  ],
  "nbformat": 4,
  "nbformat_minor": 5,
  "metadata": {
    "kernelspec": {
      "display_name": "Python 3",
      "language": "python",
      "name": "python3"
    }
  }
}