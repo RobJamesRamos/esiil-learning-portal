{
  "cells": [
    {
      "cell_type": "markdown",
      "metadata": {},
      "source": [
        "# Submit your lesson\n",
        "\n",
        "Elsa Culler  \n",
        "2025-04-08"
      ],
      "id": "2fdd4aba-bdee-4e3a-9e39-90f9621fa36c"
    }
  ],
  "nbformat": 4,
  "nbformat_minor": 5,
  "metadata": {
    "kernelspec": {
      "display_name": "Python 3",
      "language": "python",
      "name": "python3"
    }
  }
}