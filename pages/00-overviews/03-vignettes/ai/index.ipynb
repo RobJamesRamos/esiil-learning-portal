{
  "cells": [
    {
      "cell_type": "markdown",
      "metadata": {},
      "source": [
        "# Using AI for Environmental Data Science\n",
        "\n",
        "Cutting-edge analysis tools to tackle hard problems"
      ],
      "id": "08ddfa64-5aba-4fbe-8efa-21317d1d9c16"
    }
  ],
  "nbformat": 4,
  "nbformat_minor": 5,
  "metadata": {
    "kernelspec": {
      "display_name": "Python 3",
      "language": "python",
      "name": "python3"
    }
  }
}