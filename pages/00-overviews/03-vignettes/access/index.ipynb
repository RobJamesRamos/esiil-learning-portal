{
  "cells": [
    {
      "cell_type": "markdown",
      "metadata": {},
      "source": [
        "# Environmental Data Access and Management\n",
        "\n",
        "Finding Data"
      ],
      "id": "fb381a7f-594b-42e6-8bff-4cf46ad4ac79"
    }
  ],
  "nbformat": 4,
  "nbformat_minor": 5,
  "metadata": {
    "kernelspec": {
      "display_name": "Python 3",
      "language": "python",
      "name": "python3"
    }
  }
}