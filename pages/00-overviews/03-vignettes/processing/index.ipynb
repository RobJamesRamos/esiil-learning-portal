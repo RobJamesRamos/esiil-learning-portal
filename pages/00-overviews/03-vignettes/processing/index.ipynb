{
  "cells": [
    {
      "cell_type": "markdown",
      "metadata": {},
      "source": [
        "# Processing and Harmonizing Environmental Data\n",
        "\n",
        "Getting ready to run your analysis"
      ],
      "id": "ce325d26-69c5-4a2c-a97b-96f5b8f0b0ac"
    }
  ],
  "nbformat": 4,
  "nbformat_minor": 5,
  "metadata": {
    "kernelspec": {
      "display_name": "Python 3",
      "language": "python",
      "name": "python3"
    }
  }
}