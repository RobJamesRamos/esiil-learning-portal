{
  "cells": [
    {
      "cell_type": "markdown",
      "metadata": {},
      "source": [
        "# Geospatial Data Fundamentals\n",
        "\n",
        "Finding, accessing, and working with Earth data\n",
        "\n",
        "Elsa Culler  \n",
        "Nate Quarderer  \n",
        "2025-04-08\n",
        "\n",
        "This course will be available in 2024."
      ],
      "id": "3d071c61-2c57-49e9-b2ec-ddc0e6b72ece"
    }
  ],
  "nbformat": 4,
  "nbformat_minor": 5,
  "metadata": {
    "kernelspec": {
      "display_name": "Python 3",
      "language": "python",
      "name": "python3"
    }
  }
}