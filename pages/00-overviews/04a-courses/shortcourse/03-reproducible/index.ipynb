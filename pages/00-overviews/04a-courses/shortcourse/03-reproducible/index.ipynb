{
  "cells": [
    {
      "cell_type": "markdown",
      "metadata": {},
      "source": [
        "# Readable, Modular, Reproducible Code\n",
        "\n",
        "Essential Coding Skills for Team Science\n",
        "\n",
        "Elsa Culler  \n",
        "Nate Quarderer  \n",
        "2025-04-08\n",
        "\n",
        "This course will be available in 2026."
      ],
      "id": "4e40f55a-6ccd-4576-8d42-a047261746c4"
    }
  ],
  "nbformat": 4,
  "nbformat_minor": 5,
  "metadata": {
    "kernelspec": {
      "display_name": "Python 3",
      "language": "python",
      "name": "python3"
    }
  }
}