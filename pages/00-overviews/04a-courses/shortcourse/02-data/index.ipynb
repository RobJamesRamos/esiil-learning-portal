{
  "cells": [
    {
      "cell_type": "markdown",
      "metadata": {},
      "source": [
        "# Ethical Earth Data Use\n",
        "\n",
        "Finding and Using Open Earth Data to Support Communities\n",
        "\n",
        "Elsa Culler  \n",
        "Nate Quarderer  \n",
        "2025-04-08\n",
        "\n",
        "This course will be available in 2025."
      ],
      "id": "40d24308-db20-4e80-a947-68d8a40691b8"
    }
  ],
  "nbformat": 4,
  "nbformat_minor": 5,
  "metadata": {
    "kernelspec": {
      "display_name": "Python 3",
      "language": "python",
      "name": "python3"
    }
  }
}