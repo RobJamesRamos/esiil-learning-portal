{
  "cells": [
    {
      "cell_type": "markdown",
      "metadata": {},
      "source": [
        "# Who’s breathing wildfire smoke?\n",
        "\n",
        "Get started with raster data\n",
        "\n",
        "Elsa Culler  \n",
        "Nate Quarderer  \n",
        "2025-04-08\n",
        "\n",
        "This course will be available in 2024."
      ],
      "id": "e18b1246-35fc-4b3a-a211-abc0d4b7ce4e"
    }
  ],
  "nbformat": 4,
  "nbformat_minor": 5,
  "metadata": {
    "kernelspec": {
      "display_name": "Python 3",
      "language": "python",
      "name": "python3"
    }
  }
}