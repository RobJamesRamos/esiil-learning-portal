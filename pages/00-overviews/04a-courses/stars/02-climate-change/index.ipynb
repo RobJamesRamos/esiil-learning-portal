{
  "cells": [
    {
      "cell_type": "markdown",
      "metadata": {},
      "source": [
        "# Get Started With Open Reproducible Science\n",
        "\n",
        "What’s happening to the average temperatures in Rapid City, SD?\n",
        "\n",
        "Elsa Culler  \n",
        "Nate Quarderer  \n",
        "2025-04-08"
      ],
      "id": "ac9599c3-c2c9-4e71-8568-51f14da13966"
    }
  ],
  "nbformat": 4,
  "nbformat_minor": 5,
  "metadata": {
    "kernelspec": {
      "display_name": "Python 3",
      "language": "python",
      "name": "python3"
    }
  }
}