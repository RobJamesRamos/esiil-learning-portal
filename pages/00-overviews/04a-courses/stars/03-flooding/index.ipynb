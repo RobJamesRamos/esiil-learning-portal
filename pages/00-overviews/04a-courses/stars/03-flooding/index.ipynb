{
  "cells": [
    {
      "cell_type": "markdown",
      "metadata": {},
      "source": [
        "# How big were the 2019 floods in the Midwestern U.S.?\n",
        "\n",
        "Get started with time series data\n",
        "\n",
        "Elsa Culler  \n",
        "Nate Quarderer  \n",
        "2025-04-08\n",
        "\n",
        "This course will be available in 2024."
      ],
      "id": "e65e7456-85c2-49a3-b660-b1a77a9e6cf4"
    }
  ],
  "nbformat": 4,
  "nbformat_minor": 5,
  "metadata": {
    "kernelspec": {
      "display_name": "Python 3",
      "language": "python",
      "name": "python3"
    }
  }
}