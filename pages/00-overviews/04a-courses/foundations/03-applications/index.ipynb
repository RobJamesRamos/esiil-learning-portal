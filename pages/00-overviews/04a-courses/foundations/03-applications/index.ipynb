{
  "cells": [
    {
      "cell_type": "markdown",
      "metadata": {},
      "source": [
        "# Earth Data Analytics Applications\n",
        "\n",
        "Complete your own project in Earth Data Analytics!\n",
        "\n",
        "Elsa Culler  \n",
        "2025-04-08\n",
        "\n",
        "Coming soon!"
      ],
      "id": "ae4af76d-a48b-42d4-a81e-9156d0571249"
    }
  ],
  "nbformat": 4,
  "nbformat_minor": 5,
  "metadata": {
    "kernelspec": {
      "display_name": "Python 3",
      "language": "python",
      "name": "python3"
    }
  }
}