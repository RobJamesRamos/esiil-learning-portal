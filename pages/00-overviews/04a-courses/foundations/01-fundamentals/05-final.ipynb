{
  "cells": [
    {
      "cell_type": "markdown",
      "metadata": {},
      "source": [
        "# Fundamentals of Earth Data Analytics\n",
        "\n",
        "Get started with open reproducible science!\n",
        "\n",
        "Elsa Culler  \n",
        "2025-04-08\n",
        "\n",
        "Coming soon!"
      ],
      "id": "67aa0a94-0b24-4d25-95b0-71b9a126a88c"
    }
  ],
  "nbformat": 4,
  "nbformat_minor": 5,
  "metadata": {
    "kernelspec": {
      "display_name": "Python 3",
      "language": "python",
      "name": "python3"
    }
  }
}