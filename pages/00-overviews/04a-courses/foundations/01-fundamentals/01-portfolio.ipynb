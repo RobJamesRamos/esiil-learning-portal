{
  "cells": [
    {
      "cell_type": "markdown",
      "metadata": {},
      "source": [
        "# Get started with open reproducible science!\n",
        "\n",
        "Elsa Culler  \n",
        "2025-04-08"
      ],
      "id": "08efaf1c-e331-408f-ba63-194cf388e02a"
    }
  ],
  "nbformat": 4,
  "nbformat_minor": 5,
  "metadata": {
    "kernelspec": {
      "display_name": "Python 3",
      "language": "python",
      "name": "python3"
    }
  }
}