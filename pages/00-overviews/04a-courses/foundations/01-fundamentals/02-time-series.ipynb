{
  "cells": [
    {
      "cell_type": "markdown",
      "metadata": {},
      "source": [
        "# Time-series Data\n",
        "\n",
        "Elsa Culler  \n",
        "2025-04-08\n",
        "\n",
        "Coming soon!"
      ],
      "id": "95ce1108-7e46-4390-a7b0-611b41684173"
    }
  ],
  "nbformat": 4,
  "nbformat_minor": 5,
  "metadata": {
    "kernelspec": {
      "display_name": "Python 3",
      "language": "python",
      "name": "python3"
    }
  }
}