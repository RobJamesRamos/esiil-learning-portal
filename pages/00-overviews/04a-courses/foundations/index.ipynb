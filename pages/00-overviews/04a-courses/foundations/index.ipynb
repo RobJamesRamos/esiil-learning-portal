{
  "cells": [
    {
      "cell_type": "markdown",
      "metadata": {},
      "source": [
        "# Earth Data Analytics – Foundations\n",
        "\n",
        "Get started with open reproducible science!\n",
        "\n",
        "Elsa Culler  \n",
        "2025-04-08\n",
        "\n",
        "Welcome to the Earth Data Analytics – Foundations graduate certificate\n",
        "program at the University of Colorado Boulder!"
      ],
      "id": "a8725529-3571-412c-9877-c0d9d28c2b46"
    }
  ],
  "nbformat": 4,
  "nbformat_minor": 5,
  "metadata": {
    "kernelspec": {
      "display_name": "Python 3",
      "language": "python",
      "name": "python3"
    }
  }
}