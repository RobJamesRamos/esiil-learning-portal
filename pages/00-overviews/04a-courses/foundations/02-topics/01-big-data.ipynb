{
  "cells": [
    {
      "cell_type": "markdown",
      "metadata": {},
      "source": [
        "# Working with larger-then-memory (big) data\n",
        "\n",
        "Elsa Culler  \n",
        "2025-04-08\n",
        "\n",
        "Coming soon!"
      ],
      "id": "a4bd6825-2477-4d49-b4c6-73536a5e4f42"
    }
  ],
  "nbformat": 4,
  "nbformat_minor": 5,
  "metadata": {
    "kernelspec": {
      "display_name": "Python 3",
      "language": "python",
      "name": "python3"
    }
  }
}