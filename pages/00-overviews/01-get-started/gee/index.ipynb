{
  "cells": [
    {
      "cell_type": "markdown",
      "metadata": {},
      "source": [
        "# Get started with Google Earth Engine\n",
        "\n",
        "How to run your code"
      ],
      "id": "62777460-90e0-4f33-b0cf-c20507cfd948"
    }
  ],
  "nbformat": 4,
  "nbformat_minor": 5,
  "metadata": {
    "kernelspec": {
      "display_name": "Python 3",
      "language": "python",
      "name": "python3"
    }
  }
}