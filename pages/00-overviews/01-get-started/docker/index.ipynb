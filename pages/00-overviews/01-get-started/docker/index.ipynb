{
  "cells": [
    {
      "cell_type": "markdown",
      "metadata": {},
      "source": [
        "# Build Your Own Environment with Docker\n",
        "\n",
        "Customize and distribute your code on cloud platforms and\n",
        "high-performance computing"
      ],
      "id": "f8e0e4e7-625a-4528-91b9-6d2c06187c71"
    }
  ],
  "nbformat": 4,
  "nbformat_minor": 5,
  "metadata": {
    "kernelspec": {
      "display_name": "Python 3",
      "language": "python",
      "name": "python3"
    }
  }
}