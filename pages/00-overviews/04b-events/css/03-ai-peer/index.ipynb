{
  "cells": [
    {
      "cell_type": "markdown",
      "metadata": {},
      "source": [
        "# You don’t need to be an expert to teach programming\n",
        "\n",
        "Applications of AI and peer review for injecting coding into your\n",
        "classroom\n",
        "\n",
        "Elsa Culler  \n",
        "Nate Quarderer  \n",
        "2025-04-08\n",
        "\n",
        "Many students who graduate with science degrees say they did not receive\n",
        "the training they needed in computational skills. Indeed, we’ve observed\n",
        "that many departments would not hire their own undergraduates to do\n",
        "research because they lack coding skills. It is urgent to inject these\n",
        "skills into all kinds of science and math classrooms so that students\n",
        "feel confident applying for jobs and graduate programs in their field.\n",
        "In this workshop we will explore strategies that non-expert programmers\n",
        "can use to expose students to coding. We will discuss teaching coding\n",
        "using AI, teaching debugging skills rather than computer science\n",
        "concepts, and setting up an environment where students can support each\n",
        "other."
      ],
      "id": "4b7fa942-420e-4680-9b32-82bc391d21eb"
    },
    {
      "cell_type": "raw",
      "metadata": {
        "raw_mimetype": "text/html"
      },
      "source": [
        "<iframe src=\"https://docs.google.com/presentation/d/e/2PACX-1vSQRSFyV-3nP86eYikLO-RTNAytvl7Yv1mAfdOCj6yfc8ABntYEen8esdJ-x4TRO0MDwTeYhlPAHQ9q/embed?start=false&amp;loop=false&amp;delayms=60000\" frameborder=\"0\" width=\"960\" height=\"569\" allowfullscreen=\"true\" mozallowfullscreen=\"true\" webkitallowfullscreen=\"true\">"
      ],
      "id": "664ba772-9a17-46e0-acb1-1fa7cd98bfdf"
    },
    {
      "cell_type": "raw",
      "metadata": {
        "raw_mimetype": "text/html"
      },
      "source": [
        "</iframe>"
      ],
      "id": "57bf860f-11cc-4860-b852-75ade98e1f2b"
    }
  ],
  "nbformat": 4,
  "nbformat_minor": 5,
  "metadata": {
    "kernelspec": {
      "display_name": "Python 3",
      "language": "python",
      "name": "python3"
    }
  }
}