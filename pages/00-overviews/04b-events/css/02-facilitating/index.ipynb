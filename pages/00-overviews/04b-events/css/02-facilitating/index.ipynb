{
  "cells": [
    {
      "cell_type": "markdown",
      "metadata": {},
      "source": [
        "# Facilitating cross-cultural projects\n",
        "\n",
        "Elsa Culler  \n",
        "Nate Quarderer  \n",
        "2025-04-08\n",
        "\n",
        "Meaningful projects may be the key to classroom inclusion — but\n",
        "meaningful work is often tough, emotional work. As STEM educators we\n",
        "aren’t usually trained to productively channel student’s emotions and\n",
        "experiences. In this session we will cover three frameworks that we use\n",
        "at the Earth Data Science Innovation and Inclusion Lab to foster\n",
        "innovative, cross-cultural science teamwork: active listening, ethical\n",
        "space, and the “groan zone”. Active listening is an important skill for\n",
        "constructing a classroom environment where team members can express\n",
        "potentially traumatic or upsetting experiences that motivate their\n",
        "learning and inquiry goals. Ethical space is a framework for\n",
        "collaborating across cultures while respecting all team-members’\n",
        "contributions and sovereignty. Finally, the “groan zone” refers to the\n",
        "fact that learning and innovating is inherently uncomfortable, and teams\n",
        "who can’t tolerate that discomfort miss out on the juicy and impactful\n",
        "ideas and understanding that lies on the other side. In this workshop,\n",
        "we will present these three frameworks, practice them using role play,\n",
        "and discuss some ways they can be used to facilitate cross-cultural\n",
        "student projects.\n",
        "\n",
        "## Session slides"
      ],
      "id": "a9302470-1562-4b84-9507-a411f4b8d058"
    },
    {
      "cell_type": "raw",
      "metadata": {
        "raw_mimetype": "text/html"
      },
      "source": [
        "<iframe src=\"https://docs.google.com/presentation/d/e/2PACX-1vSWc40kns6IDHyHxw7KsGUyElL2iBWm_eEWwF2WaJy2FWcT3GKLwWWbX-2kjvXBkyIH42kPCK550uaV/embed?start=false&amp;loop=false&amp;delayms=60000\" frameborder=\"0\" width=\"960\" height=\"569\" allowfullscreen=\"true\" mozallowfullscreen=\"true\" webkitallowfullscreen=\"true\">"
      ],
      "id": "fdcee2df-76ae-45f7-be4d-e05fd2d06b9b"
    },
    {
      "cell_type": "raw",
      "metadata": {
        "raw_mimetype": "text/html"
      },
      "source": [
        "</iframe>"
      ],
      "id": "d13cbca9-7fff-4444-aead-bb50bb041d31"
    }
  ],
  "nbformat": 4,
  "nbformat_minor": 5,
  "metadata": {
    "kernelspec": {
      "display_name": "Python 3",
      "language": "python",
      "name": "python3"
    }
  }
}